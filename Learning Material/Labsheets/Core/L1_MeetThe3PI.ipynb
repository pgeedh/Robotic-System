{
  "nbformat": 4,
  "nbformat_minor": 0,
  "metadata": {
    "kernelspec": {
      "display_name": "Python 3",
      "language": "python",
      "name": "python3"
    },
    "language_info": {
      "codemirror_mode": {
        "name": "ipython",
        "version": 3
      },
      "file_extension": ".py",
      "mimetype": "text/x-python",
      "name": "python",
      "nbconvert_exporter": "python",
      "pygments_lexer": "ipython3",
      "version": "3.7.3"
    },
    "colab": {
      "name": "L1_MeetThe3PI.ipynb",
      "provenance": [],
      "toc_visible": true
    }
  },
  "cells": [
    {
      "cell_type": "markdown",
      "metadata": {
        "button": false,
        "run_control": {
          "read_only": false
        },
        "id": "tM8o0KwEmOxQ"
      },
      "source": [
        "# Lab 1: Getting Started, Uploading, Debugging"
      ]
    },
    {
      "cell_type": "markdown",
      "metadata": {
        "button": false,
        "run_control": {
          "read_only": false
        },
        "id": "5jrBgqOlmOxS"
      },
      "source": [
        "In this exercise sheet, you will get to know the **3Pi+ robot** that you will be using throughout these labs and for the coursework assessments.\n",
        "\n",
        "\n",
        "In this labsheet you will:\n",
        "\n",
        "+ See the standard Arduino sketch, which has the structure of setup() and loop() routines.\n",
        "+ Experiment with Arduino Example sketches.\n",
        "+ Upload sketches to your 3Pi+ robot.\n",
        "+ Experiment with Serial commands to view debug output from your code.\n",
        "\n",
        "\n",
        "**If you have difficulty connecting to your 3Pi+, please see the notes <a href=\"https://colab.research.google.com/github/paulodowd/EMATM0054_53_23-24/blob/main/Labsheets/Core/L0_Troubleshooting.ipynb\">FAQ/Troubleshooting.</a>**\n",
        "<br>\n",
        "\n",
        "<hr>\n",
        "<br><br><br><br>\n",
        "\n",
        "## 3Pi+ Overview Video\n",
        "\n",
        "\n",
        "<p align=\"center\">\n",
        "<a href=\"https://www.youtube.com/watch?v=BRJKrKbe4Uw\"><img src=\"https://img.youtube.com/vi/BRJKrKbe4Uw/0.jpg\"></a>\n",
        "</p>\n",
        "<p align=\"center\">\n",
        "<a href=\"https://youtu.be/BRJKrKbe4Uw\">Youtube Link</a>\n",
        "</p>"
      ]
    },
    {
      "cell_type": "markdown",
      "metadata": {
        "button": false,
        "run_control": {
          "read_only": false
        },
        "id": "6sjMrLYdmOxT"
      },
      "source": [
        "<hr><br><br><br><br>"
      ]
    },
    {
      "cell_type": "markdown",
      "metadata": {
        "id": "1g1Okm5SSwlW"
      },
      "source": [
        "# Arduino IDE\n",
        "\n",
        "\n",
        "\n",
        "<p align=\"center\">\n",
        "<a href=\"https://www.youtube.com/watch?v=0W2lgNKPqKY\"><img src=\"https://img.youtube.com/vi/0W2lgNKPqKY/0.jpg\"></a>\n",
        "</p>\n",
        "<p align=\"center\">\n",
        "<a href=\"https://youtu.be/0W2lgNKPqKY\">Quick Video on Arduino IDE setup for the 3Pi+ Robot</a>\n",
        "\n",
        "</p>\n",
        "\n",
        "\n",
        "Please use the Arduino IDE (Integrated Development Environment), which is <a href=\"https://www.arduino.cc/en/software\">available at the Arduino Website</a> (`https://www.arduino.cc/en/software`).  Please also use the application intended to be downloaded and installed on to your computer, rather than the web-browser version.  If you are working on a University computer with Arduino installed already, you can download the **.zip** version, extract this to a folder, and run Arduino from there.\n",
        "\n",
        "You are free to use another IDE, such as Eclipse of Visual Studio.  However, the teaching staff are **not able to offer support** to these applications.\n",
        "\n",
        "A template Arduino Sketch is avialable via GitHub (<a href=\"https://github.com/paulodowd/EMATM0054_53_23-24/tree/main/3PI_CodeStub\">Github Page</a>, <a href=\"https://github.com/paulodowd/EMATM0054_53_23-24/blob/main/3PI_CodeStub/Labsheet_X.zip\">Zip Download</a>).  Simple open the `.ino` file with the Arduino IDE.\n",
        "\n",
        "To add `line numbers`, `code block collapsing`, or to turn off `auto-complete` features, you can click: `File -> Preferences`, and in the dialogue box find a reference to a text file with further options called \"preferences.txt\".  Edit this file to set your preferences and save the file.   You will need to restart the Arduino IDE.\n",
        "\n",
        "Remember that you will need to:\n",
        "- Select the appropriate board, `Tools -> Board -> Arduino Leonardo`.  \n",
        "- Select the appropriate port, `Tools -> Ports ->`\n",
        "  - This will be COM(n) in Windows, and as a general rule, the highest enumerated.\n",
        "  - This will be something like `ttyUSB0` or `ttyACM0` in Linux\n",
        "  - This will be something like `USBModem` on Apple computers.\n",
        "\n",
        "Further help on setting up the Arduino IDE can be found on the <a href=\"https://www.pololu.com/docs/0J83/6.2\">Pololu Website in the 3Pi+ documentation</a>.\n",
        "\n",
        "\n"
      ]
    },
    {
      "cell_type": "markdown",
      "metadata": {
        "id": "OP3CRjEiSyyF"
      },
      "source": [
        "<hr><br><br><br><br>"
      ]
    },
    {
      "cell_type": "markdown",
      "metadata": {
        "id": "s-m7QgKy2M5O"
      },
      "source": [
        "# Pololu 3PI+ in Overview\n",
        "\n",
        " You are welcome to review the product page and documentation on the 3Pi+ provided by Pololu which is <a href=\"https://www.pololu.com/product/3737/resources\">available here</a>.  \n",
        "\n",
        "You might also discover that Pololu provide an Arduino Software library to operate the 3Pi+, <a href=\"https://github.com/pololu/pololu-3pi-plus-32u4-arduino-library\">available here</a>.  You are encouraged to investigate this library where it is useful to support your learning.  However, for this coursework you are **not permitted** to use the Library in your work or your final submission.  If you investigate the Pololu library code, you will find:\n",
        "- some of it is very terse.\n",
        "- it references further available libraries.\n",
        "- it is easy to spot some advanced techniques.  \n",
        "\n",
        "The aim of these exercise sheets is to help you to develop a **deep understanding**, which is best gained by writing your own code for the available hardware.  This will also give you the necessary practice (i.e time invested) to develop skill in debugging software written for a robotic system.  \n",
        "\n",
        "<p align=\"center\">\n",
        "<br>\n",
        "<img src=\"https://github.com/paulodowd/EMATM0054_53_23-24/blob/main/Images/3PI_Top_Annotated.png?raw=true\">\n",
        "<br>\n",
        "</p>\n",
        "\n",
        "Above is a photo of the Pololu 3Pi+ robot taken looking at the top of the robot.  On the left, the LCD screen is installed by the manufacturer.  We will not be using the LCD, and the LCD screen will consume your battery power quicker.  If your robot has the LCD screen, to remove it, simply pull it directly away from the robot body.  If you would like to explore using the LCD screen, please ask a member of teaching staff to provide one to you.  \n",
        "\n",
        "<p align=\"center\">\n",
        "<br>\n",
        "<img src=\"https://github.com/paulodowd/EMATM0054_53_23-24/blob/main/Images/3PI_BottomAnnotated.png?raw=true\">\n",
        "<br>\n",
        "</p>\n",
        "\n",
        "In the above image, the 3Pi+ has been flipped over, so that the bottom of the robot is visible.  On the right, the most important parts of the robot have been annotated for the task of line following:\n",
        "- 5 surface reflectance sensors, measuring reflected infra-red light.  We will refer to these as \"ground sensors\", or \"line sensors\", or \"reflectance sensors\".\n",
        "- two motors, each with an attached gear-train and rotary encoder.\n",
        "- a ball-caster.\n",
        "\n",
        "\n",
        "The 3Pi+ is controlled by an ATMEL ATMEGA32u4 Microcontroller (<a href=\"https://www.microchip.com/en-us/product/ATmega32U4\">produce page</a>, <a href=\"https://ww1.microchip.com/downloads/en/DeviceDoc/Atmel-7766-8-bit-AVR-ATmega16U4-32U4_Datasheet.pdf\">datasheet</a>).  \n",
        "\n",
        "Throughout these labsheets you'll find a general discussion of the electronics.  We will not be required to make any changes or direct interaction with the electronics.  \n",
        "\n",
        "\n"
      ]
    },
    {
      "cell_type": "markdown",
      "metadata": {
        "id": "zYqTXEut4c6w"
      },
      "source": [
        "## Exercise 1: Pololu 3Pi+\n",
        "\n",
        "During these labsheets you will find prompts to **hypothesise**, and these can be taken as opportunities to discuss ideas with neighbouring students.\n",
        "\n",
        "1. **Hypothesise (task):** The above image was annotated with `front` and `rear` with respect to the robot chassis.  In theory, the robot can be driven in either direction, regardless of front or rear.  What rationale or justification would you use to support the provided sense of robot direction?\n",
        "  - **help:** consider:\n",
        "    - the task requirements we have of line following.\n",
        "    - the behaviour(s) we might expect from the robot.\n",
        "    - the physical configuration of the hardware.\n",
        "    - the `perception`, `decision making` and `actuation` of the robot.\n",
        "\n",
        "2. **Hypothesise (hardware):** The robot has a ball-caster:\n",
        "  - Why might this have been included in the design?\n",
        "  - Why would the ball-caster be more suited at the rear of the robot?\n",
        "  - What is the difference between a ball-caster and a caster-wheel?  \n",
        "\n",
        "3. **Hypothesise (task):** In these labsheets, exercises will be given to focus on using the 3 central ground sensors.  In what situations might the left-most and right-most peripheral ground sensors be useful?"
      ]
    },
    {
      "cell_type": "markdown",
      "metadata": {
        "id": "8Rcz4dwvmOxV"
      },
      "source": [
        "<br><br><br><br>"
      ]
    },
    {
      "cell_type": "markdown",
      "metadata": {
        "button": false,
        "run_control": {
          "read_only": false
        },
        "id": "mmJHALsSmOxV"
      },
      "source": [
        "# 3Pi+ Software Overview\n"
      ]
    },
    {
      "cell_type": "markdown",
      "metadata": {
        "button": false,
        "run_control": {
          "read_only": false
        },
        "id": "j1BHJhlRmOxY"
      },
      "source": [
        "### General Workflow\n",
        "\n",
        "Code for the 3Pi+ is a set of instructions to the microcontroller.  These are written in plain text, following the general syntax of the C/C++ langauge.  The programming language in Arduino is an unconventional mix of C and C++.  \n",
        "\n",
        "Your code is in a `human readable` form, but it will be compiled into `machine code` for the 3Pi+ to use.  Once we have some code, we will press the upload button in the Arduino IDE and the following things will occur:\n",
        "\n",
        "1. The IDE will attempt to compile your code into machine code.  If there is an error in your code, this will be reported and the upload process stopped.  You would need to edit your code to fix the error.  If you receive lots of error messages, it is usually the first (most historic) that is the root cause of later problems.\n",
        "\n",
        "2. The IDE will attempt to establish a USB Serial connection to your 3Pi+ robot.\n",
        "\n",
        "3. The machine code file (a .hex file) will be transferred and `burnt` into the **`non-volatile`** storage of the 3Pi+ robot.  Sometimes, a connection error might occur here, and the whole process would need to be repeated.  Once completed, the USB Serial connection will be disconnected.\n",
        "\n",
        "4. The 3Pi+ will perform a reset, and begin following the instructions that you have written within your code.  Note, the 3Pi+ robot will now operate the code, not your personal computer.\n",
        "  - Therefore, if you change your code within the Arduino IDE, this will not change the behaviour of the robot.\n",
        "  - You will need to upload your code when you change it, once you are ready to test it.  \n",
        "  - **There is not a way to stop your code from running on the robot**.  The only choice you have is to remove power from the robot, or upload a different program.\n",
        "\n"
      ]
    },
    {
      "cell_type": "markdown",
      "metadata": {
        "button": false,
        "run_control": {
          "read_only": false
        },
        "id": "Lppo5yQamOxW"
      },
      "source": [
        "### Built-in Example Code\n",
        "\n",
        "The Atmega 32u4 and similar processors (such as the Atmega328p used in the Arduini Uno) can be programmed in a C/C++ varient developed by the Arduino Community.  This code can be transferred from your PC to the 3Pi+ via USB with the Arduino Integrated Development Environment (IDE).  There are many Examples included within the Arduino IDE.  These are very useful to investigate.  \n",
        "\n",
        "For this labsheet:\n",
        "\n",
        "1. Open the Arduino IDE on your personal computer.\n",
        "2. Select File --> Examples --> 01.Basics --> Blink\n",
        "\n",
        "You should see the following code:"
      ]
    },
    {
      "cell_type": "markdown",
      "metadata": {
        "button": false,
        "run_control": {
          "read_only": false
        },
        "id": "rNq0DRjgmOxX"
      },
      "source": [
        "```c\n",
        "/*\n",
        "  Blink\n",
        "\n",
        "  Turns an LED on for one second, then off for one second, repeatedly.\n",
        "\n",
        "  Most Arduinos have an on-board LED you can control. On the UNO, MEGA and ZERO\n",
        "  it is attached to digital pin 13, on MKR1000 on pin 6. LED_BUILTIN is set to\n",
        "  the correct LED pin independent of which board is used.\n",
        "  If you want to know what pin the on-board LED is connected to on your Arduino\n",
        "  model, check the Technical Specs of your board at:\n",
        "  https://www.arduino.cc/en/Main/Products\n",
        "\n",
        "  modified 8 May 2014\n",
        "  by Scott Fitzgerald\n",
        "  modified 2 Sep 2016\n",
        "  by Arturo Guadalupi\n",
        "  modified 8 Sep 2016\n",
        "  by Colby Newman\n",
        "\n",
        "  This example code is in the public domain.\n",
        "\n",
        "  http://www.arduino.cc/en/Tutorial/Blink\n",
        "*/\n",
        "\n",
        "// the setup function runs once when you press reset or power the board\n",
        "void setup() {\n",
        "  // initialize digital pin LED_BUILTIN as an output.\n",
        "  pinMode(LED_BUILTIN, OUTPUT);\n",
        "}\n",
        "\n",
        "// the loop function runs over and over again forever\n",
        "void loop() {\n",
        "  digitalWrite(LED_BUILTIN, HIGH);   // turn the LED on (HIGH is the voltage level)\n",
        "  delay(1000);                       // wait for a second\n",
        "  digitalWrite(LED_BUILTIN, LOW);    // turn the LED off by making the voltage LOW\n",
        "  delay(1000);                       // wait for a second\n",
        "}\n",
        "```"
      ]
    },
    {
      "cell_type": "markdown",
      "metadata": {
        "id": "CMGcaNiPIMRF"
      },
      "source": [
        "### Comments\n",
        "\n",
        "Let's investigate the example code above. The code between lines 1 and 23 is enclosed by '/\\*' and '\\*/' and is known as a <i>comment</i>. Comments may also be marked by a double slash '//'.  Comments are not an instruction to the microcontroller and are ignored by the compiler.  Comments are text left by the developer to help the understanding of the code. It is recommended you use comments to plan what you are to write and to remember how your code operates.  It can also be useful to comment-out code when you are attempting to solve an error in your working:  \n",
        "\n",
        "```c\n",
        "/* Example comment\n",
        "   across multiple\n",
        "   lines.\n",
        "*/\n",
        "\n",
        "// Single line comment example\n",
        "```\n",
        "\n"
      ]
    },
    {
      "cell_type": "markdown",
      "metadata": {
        "id": "IsAccc3dHuDN"
      },
      "source": [
        "### Built-in Functions, Arduino Reference\n",
        "\n",
        "Starting on line 26 (and below another comment), we have the **`setup()`** function. The code contained in this function is run once, when the 3Pi+ is turned on. The utility of the `setup()` function is to configure your robot **before** it begins to operate.  Currently, the example `setup()` function contains a single line:\n",
        "\n",
        "`pinMode(LED_BUILTIN, OUTPUT);`\n",
        "\n",
        "The above line is a function call, utilising a built-in function to operate the microcontroller.  This function call operates as named - to set the mode of a pin.  You can find this function and others in the <a href=\"https://www.arduino.cc/reference/en/\">Arduino Reference</a>, which includes examples of their use.\n",
        "\n",
        "A Microcontroller such as the Atmega32u4 contains a number of pins, most of which can be configured as either an input or an output. The above line of code calls the function `pinMode` with two **`arguments`**:\n",
        "1. `LED_BUILTIN`, a keyword which refers to a pin connected to a built in LED on the  3Pi+ board. Here, you could also use a number to indicate which pin.  LED_BUILTIN is transferrable between Arduino devices, but it is typically pin 13.\n",
        "2. `OUTPUT`: a key word, used to toggle the mode of the pin.  The alternative would be the keyword `INPUT`.  In this case, it is the Orange LED on the left hand side of the board.  \n",
        "\n",
        "`LED_BUILTIN` is effectively a 'find and replace' for pin 13.  Pin 13 is almost always the LED built in to arduino devices. You can create your own 'find and replace' keywords by using syntax like `#define MY_PIN_NAME 6` at the very top of your program.  When using other devices, you'll probably need to look up and use the exact pin number (e.g., `6` for digital pin 6, or `A2` for analog pin 2.  \n",
        "\n",
        "When the second argument is specified as `OUTPUT`, this indicates that the pin will output a HIGH or LOW voltage during it's use.  This is later used to turn the LED on and off.  If we instead use `INPUT` as an argument, the Arduino would expect your later code do a read (measurement) of the voltage present at the pin.\n",
        "\n"
      ]
    },
    {
      "cell_type": "markdown",
      "metadata": {
        "button": false,
        "run_control": {
          "read_only": false
        },
        "id": "FKG-Ub2tmOxZ"
      },
      "source": [
        " Next, we have the main loop, **`loop()`**. This function will be called repeatedly by the Microcontroller. In this case, we first see the line:\n",
        "\n",
        "```c\n",
        "digitalWrite(LED_BUILTIN, HIGH);\n",
        "```\n",
        "This tells the microcontroller to set the voltage of the LED_BUILTIN pin to be high (5V in this case).  Again, LED_BUILTIN here is effectively substituted for the digital pin `13` when the code is compiled.  The `digitalWrite()` function  causes current to flow through the LED, turning it on. Next we have the line:\n",
        "\n",
        "`delay(1000);`\n",
        "\n",
        "The function `delay()` is another built-in function from the Arduino environment (<a href=\"https://www.arduino.cc/reference/en/language/functions/time/delay/\">reference page</a>).  The function `delay(1000)` tells the microcontroller to wait (do nothing) for 1000 milliseconds.\n",
        "\n",
        "After using `delay()`, the example sets the LED_BUILTIN pin low (turning off the LED), before delaying for another second.\n",
        "\n",
        "After this instruction has finished, the program returns to the beginning of the loop() function and turns the LED on again.  As this happens repetitively, we should see the LED flash at a frequency of 0.5 Hz.\n"
      ]
    },
    {
      "cell_type": "markdown",
      "metadata": {
        "id": "WjSyyHwuHxuN"
      },
      "source": [
        "### Setup(), Loop() and iterating.\n",
        "\n",
        "Before we go further, it is useful to consider the overall structure (architecture) of the software.  At the highest level, we can view the code that runs on the 3Pi+ as composed of two parts:\n",
        "1. The **setup code** which is executed when the 3Pi+ is first powered on. This code should be written in the **`setup()`** function.\n",
        "2. The **main loop**, inside the function **`loop()`**, which will also serve to call other functions you may write.\n",
        "\n",
        "<p align=\"center\">\n",
        "<br>\n",
        "<img src=\"https://github.com/paulodowd/EMATM0054_53_23-24/blob/main/Images/Arduino_BasicOverview.png?raw=true\">\n",
        "<br>\n",
        "</p>\n",
        "\n",
        "The code in`loop()` function is executed repeatedly and indefinitely, until the robot is:\n",
        "- switched off.\n",
        "- resets, sometimes due to a computing error.\n",
        "- runs out of power.\n",
        "\n",
        "The main code of your program should be written in the `loop()` function.  Aim to have your `loop()` code to return and be called again - to operate iteratively.  The below illustration shows an iterative approach to counting up to 10:\n",
        "\n",
        "<p align=\"center\">\n",
        "<br>\n",
        "<img src=\"https://github.com/paulodowd/EMATM0054_53_23-24/blob/main/Images/Arduino_CountToTen.png?raw=true\">\n",
        "<br>\n",
        "</p>\n",
        "\n",
        "Note that, in the above illustration, `loop()` would need to be executed 10 times for `countToTen()` to return `true`.  Like this, `loop()` would be able to execute some other code whilst the count to 10 had not been completed.  In contrast, a loop operator within `countToTen()` (such as the example below) would have blocked `loop()` from running for a (very) short duration:  \n",
        "\n",
        "```c\n",
        "// An example of a blocking function\n",
        "bool countToTen() {\n",
        "  int i;\n",
        "  i = 0;\n",
        "\n",
        "  // microcontroller will be repeating\n",
        "  // this 10 times\n",
        "  while( i < 10 ) {\n",
        "    i = i + 1;\n",
        "  }\n",
        "  return true;\n",
        "\n",
        "}\n",
        "```\n",
        "\n",
        "In general, the example of counting to 10 would not be of significant detriment to the system.  However, hardware access or iteration over large arrays can be a problem.  Therefore, the general guidance is:\n",
        "\n",
        "1. It is desirable that your robot operates with the most up-to-date information available - therefore, it is better to take on an approach that prioritises a fast iteration of an update routine.  If a part of your code **`blocks`** the loop() iteration or runs slowly, your robot may miss important information.\n",
        "\n",
        "2. There is a high likelihood that inconsistent functions that **`block`** the iteration of loop() will cause bugs and errors in your working.  For example, for each `blocking` function, you would need to remember to check for new information.  This can be mitigated by adopting a consistent iterative approach that branches from loop().\n",
        "\n",
        "3. Software for a robotic system will get complicated very quickly.  Therefore, it is better to take an approach with a clear `execution flow` that follows a consistent method.  Your code will be more readable if the expected flow of your program always iterates through `loop()`.  This will also make your code easier to extend with more functionality.  \n",
        "\n",
        "In the future, your `loop()` routine might be as readable as the below example, giving a complete general overview of the capability of your robot:\n",
        "\n",
        "```c\n",
        "void loop() {\n",
        "  \n",
        "  updateSensors();\n",
        "  robot_state = updateRobotState();\n",
        "\n",
        "  if( robot_state == LOST ) {\n",
        "    findLine();\n",
        "  } else if ( robot_state == ON_LINE ) {\n",
        "    followLine();\n",
        "  } else if( robot_state == LINE_END ) {\n",
        "    celebrate();\n",
        "  }\n",
        "\n",
        "  updateActuators();\n",
        "}\n",
        "```\n",
        "\n",
        "We can also imagine how to clearly extend the above code to include further robot states and behaviours.  \n",
        "\n",
        "\n",
        "\n"
      ]
    },
    {
      "cell_type": "markdown",
      "metadata": {
        "id": "8pMLn9CD8sVf"
      },
      "source": [
        "<hr><br><br><br><br>"
      ]
    },
    {
      "cell_type": "markdown",
      "metadata": {
        "button": false,
        "run_control": {
          "read_only": false
        },
        "id": "DX7iLQtLmOxa"
      },
      "source": [
        "## Exercise 2: Upload an Example\n",
        "\n",
        "1. Research, what is meant by `non-volatile` storage?  What is `volatile` storage or memory?\n",
        "\n",
        "2. Review the <a href=\"https://www.arduino.cc/reference/en/\">Arduino Reference</a>, investigating any functions that might seem useful.  It is probably a good idea to bookmark this page in your web-browser.\n",
        "\n",
        "3. Upload the Blink example sketch to the 3Pi+:\n",
        "  - tell the IDE which type of microcontroller you wish to upload code to. To do this, select:\n",
        "    - `Tools --> Board --> Arduino Leonardo`.\n",
        "    - Plug your 3Pi+ to the computer with an appropriate USB cable.\n",
        "  - tell the IDE which serial port the arduino is connected to. Select:\n",
        "    - `Tools --> Port --> COM X (Arduino Leonardo)`\n",
        "    - The correct port may be given different names on PC, Mac and Linux.\n",
        "  - Press the `upload` button on the Arduino IDE.\n",
        "  - **Help**: If you have significant issues, read through Labsheet 0: Troubleshooting.  You can also contact a member of the teaching staff.\n",
        "\n",
        "4. Modify the example code to blink the LED at 5hz.\n",
        "  - **Help**: the example code is using the function `delay(1000)`, which delays by 1000milliseconds (1 second).  What should this delay be to blink 5 times a second (5hz)?\n",
        "\n"
      ]
    },
    {
      "cell_type": "markdown",
      "metadata": {
        "id": "R6HyXF5omOxa"
      },
      "source": [
        "\n",
        "    \n",
        " **Note:** It isn't possible to \"stop\" your program.  Once you upload code to the 3Pi+, it will run this code whenever the device is powered up.  It is possible to put the 3Pi+ into \"sleep states\" (low power modes), but it isn't possible to stop your program.  Therefore, you should write your code knowing that it will always loop.    You should write your code to to take advantage of this.\n",
        "\n",
        " **Note:** It is also OK to remove power from your 3Pi+ when ever you need to.  There is no specific \"shut down\" procedure.  \n",
        "\n",
        " **Note:** Your 3Pi+ can be powered from two simultaneous sources:\n",
        " - the 5volts provided via the USB cable\n",
        " - the batteries of the 3Pi+, if you use the small button labelled `Power` on the top of the robot. A blue LED will illuminate when the robot is operating on battery power.\n",
        "\n"
      ]
    },
    {
      "cell_type": "markdown",
      "metadata": {
        "id": "PPdy2RjQmOxa"
      },
      "source": [
        "<br><br><br><br>"
      ]
    },
    {
      "cell_type": "markdown",
      "metadata": {
        "button": false,
        "run_control": {
          "read_only": false
        },
        "id": "Dgn6yoHNmOxa"
      },
      "source": [
        "# Variables: Scope\n",
        "\n",
        "We will modify the Blink example to count the number of times the LED has flashed since the 3Pi+ was turned on. This will introduce us to the important concepts of variables, data type and scope.\n",
        "\n",
        "Working data is stored in the memory of your microcontroller. You can use this memory in your program by declaring a **`variable`**.  You can think of a `variable` as a container in memory to store information (typically, numeric values).  For example, we might want to use a `variable` to store the number of times our LED has flashed. To do so, we could change our code to be as follows:\n"
      ]
    },
    {
      "cell_type": "markdown",
      "metadata": {
        "button": false,
        "run_control": {
          "read_only": false
        },
        "id": "cUdIQeP1mOxb"
      },
      "source": [
        "```c\n",
        "int number_of_led_flashes = 0;\n",
        "\n",
        "// the setup function runs once when you press reset or power the board\n",
        "void setup() {\n",
        "  // initialize digital pin LED_BUILTIN as an output.\n",
        "  pinMode(LED_BUILTIN, OUTPUT);\n",
        "}\n",
        "\n",
        "// the loop function runs over and over again forever\n",
        "void loop() {\n",
        "  digitalWrite(LED_BUILTIN, HIGH);   // turn the LED on (HIGH is the voltage level)\n",
        "  delay(1000);                       // wait for a second\n",
        "  digitalWrite(LED_BUILTIN, LOW);    // turn the LED off by making the voltage LOW\n",
        "  delay(1000);                       // wait for a second\n",
        "}\n",
        "```"
      ]
    },
    {
      "cell_type": "markdown",
      "metadata": {
        "button": false,
        "run_control": {
          "read_only": false
        },
        "id": "GCftOihTmOxb"
      },
      "source": [
        "Here, on line one, we have created a variable of **`type`** int, called \"number_of_led_flashes\" and set its value to be 0. Whenever we declare a variable in C++, we must follow this pattern of writing:\n",
        "\n",
        "```c\n",
        "<type>   <name>;\n",
        "```\n",
        "\n",
        "This is because the compiler will need to allocate the memory, and ensure there is enough remaining.  \n",
        "\n",
        "To also assign an initial value, we have used the assignment operator `=`:\n",
        "\n",
        "```c\n",
        "<type> <name> = value;\n",
        "```\n",
        "\n",
        "The type of a variable tells the microcontroller what kind of information will be stored in the variable. Common examples include:\n",
        "     \n",
        " + `int` : Used to store whole numbers. On the 32u4 microprocessor, an int is 16 bits (2 bytes) and represents numbers between -2^15 and 2^15-1 (-32,768 to 32,767). Note that you may also see an unsigned integer, which uses 2 bytes to represent positive numbers only (Giving a range of 0 to 65,535). Note also that if you try to store a fractional number in an integer, the part after the decimal point will be rounded down (IE Both 3.14159 and 3.9999 will be stored as 3).\n",
        "     \n",
        " + `float` : Used to store numbers that have a decimal point. (IE 3.14159). On the 32u4, floats are stored as 4 bytes and can take values ranging from 3.4028235E+38 to -3.4028235E+38. Note that due to the way floats are stored, arithmetic operations on floats may give unexpected results. For example, 6.0 / 3.0 may not be exactly equal to 2.0. Good practice when comparing floating point numbers is not to check whether they are exactly equal (with ==), but to check if the difference between them is below a threshold.  (A great YouTube video on how floating point is implemented is available <a href=\"https://youtu.be/PZRI1IfStY0\">here</a>).\n",
        "     \n",
        " + `bool` : A boolean can be either True (1) or False (0). On the 32u4, a boolean uses 1 byte.\n",
        "     \n",
        " + `byte` : A byte is also used to store whole numbers (like an int), but as it only uses a single byte (8 bits), and can only represent values between 0 and 255.  Note that, a byte doesn't represent negative numbers.\n",
        "     \n",
        " + `char` : A char uses a byte (8-bits), but splits it equally into negative and postive values. The name Char comes from the fact that Chars are often used to represent letters, using the ASCII encoding (details [here](https://www.arduino.cc/en/Reference/ASCIIchart) ).\n",
        "\n",
        "You can find more information on variables as available on Arduino in the <a href=\"https://www.arduino.cc/reference/en/#variables\">Arduino Reference</a>.\n",
        "     \n",
        "\n"
      ]
    },
    {
      "cell_type": "markdown",
      "metadata": {
        "button": false,
        "run_control": {
          "read_only": false
        },
        "id": "fr4C3AGEmOxb"
      },
      "source": [
        "However, the `type` of a variable is not the only thing we must consider when declaring a variable. We must also consider the **`scope`** of the variable.\n",
        "\n",
        "**`Scope`** defines the visibility of a variable to other areas of your program.  If a variable is not visible to a part of a program, it cannot be read or written to.  Importantly, scope also helps the compiler to determine which variables will be persistent or not, allowing for the optimisation of memory usage.  \n",
        "\n",
        "In C/C++, scope is indicated by a pair of curly brackets `{}` - you will see these used when we define functions, if-then-else statements and loops. Note that it is possible to nest scope. For exampe, we might write:\n"
      ]
    },
    {
      "cell_type": "markdown",
      "metadata": {
        "button": false,
        "run_control": {
          "read_only": false
        },
        "id": "m0928cDcmOxb"
      },
      "source": [
        "```c\n",
        "// This are of your program is the global scope\n",
        "// Variables declared here will persist for the\n",
        "// whole duration of your program, and be\n",
        "// visible to all other parts of your program.\n",
        "\n",
        "void setup() {\n",
        "    \n",
        "    // This is the scope local to the setup function\n",
        "    \n",
        "    if (condition) {\n",
        "        // This is the scope local to the if-then-else statement of the setup function\n",
        "    }\n",
        "    \n",
        "    // Here we have returned to the scope local to the setup function\n",
        "}\n",
        "\n",
        "// Now we are back to global scope\n",
        "\n",
        "void loop() {\n",
        "\n",
        "    // This is the scope local to the loop function\n",
        "\n",
        "    if (condition) {\n",
        "        // This is the scope local to the if-then-else statement of the loop function\n",
        "    }\n",
        "    \n",
        "    // Here we have returned to the scope local to the loop function\n",
        "}\n",
        "\n",
        "// Now we are back to global scope again\n",
        "```"
      ]
    },
    {
      "cell_type": "markdown",
      "metadata": {
        "button": false,
        "run_control": {
          "read_only": false
        },
        "id": "6NjQvv5ymOxb"
      },
      "source": [
        "When we declare a variable it can ONLY be used in the scope it is declared in and LOWER scopes. We can NOT use a variable from a lower scope in a higher scope. For example, if we write:\n"
      ]
    },
    {
      "cell_type": "markdown",
      "metadata": {
        "button": false,
        "run_control": {
          "read_only": false
        },
        "id": "2VmZsSz8mOxc"
      },
      "source": [
        "```c\n",
        "\n",
        "int a; //This is a global variable\n",
        "\n",
        "void setup() {\n",
        "    int b; //This is a local variable\n",
        "}\n",
        "\n",
        "void loop() {\n",
        "    int c; // This is a local variable\n",
        "}\n",
        "\n",
        "```"
      ]
    },
    {
      "cell_type": "markdown",
      "metadata": {
        "button": false,
        "run_control": {
          "read_only": false
        },
        "id": "2h_KhUnfmOxc"
      },
      "source": [
        "Then we can use the variable a in both the setup and the loop functions. We can use the variable b ONLY in the `setup()` function and variable c ONLY in the `loop()` function. If we try to use a variable in a scope in which it does not exist, then we will get a compile error. For example, if I was to then write:\n",
        "\n"
      ]
    },
    {
      "cell_type": "markdown",
      "metadata": {
        "button": false,
        "run_control": {
          "read_only": false
        },
        "id": "_daQP2xCmOxc"
      },
      "source": [
        "```c\n",
        "int a; // \"a\" is a global variable\n",
        "\n",
        "void setup() {\n",
        "    int b; // \"b\" is a local setup\n",
        "}\n",
        "\n",
        "void loop() {\n",
        "    int c;  // \"c\" is local to loop\n",
        "    b = 1;  // error! \"b\" isn't local (visible) to loop\n",
        "}\n",
        "```"
      ]
    },
    {
      "cell_type": "markdown",
      "metadata": {
        "button": false,
        "run_control": {
          "read_only": false
        },
        "id": "MU0qDSMJmOxc"
      },
      "source": [
        "when I compile this, I get the error:"
      ]
    },
    {
      "cell_type": "markdown",
      "metadata": {
        "button": false,
        "run_control": {
          "read_only": false
        },
        "id": "0DzOFVE2mOxc"
      },
      "source": [
        "`\\\\ads.bris.ac.uk\\...\\Desktop\\test\\test.ino: In function 'void loop()':`\n",
        "\n",
        "`test:9: error: 'b' was not declared in this scope`\n",
        "\n",
        "   `b = 1;`\n",
        "\n",
        "   `^`\n",
        "\n",
        "`exit status 1`\n",
        "`'b' was not declared in this scope`"
      ]
    },
    {
      "cell_type": "markdown",
      "metadata": {
        "button": false,
        "run_control": {
          "read_only": false
        },
        "id": "nmSUTzeAmOxc"
      },
      "source": [
        "Compile errors like this often look scary (and can be frustrating!), but in fact this error gives us a lot of information. The first line tells us the name of the file where the error was found (`test.ino`) AND the function (`void loop()`). The next line tells us the exact line of code where the problem is (`Line 9`) and the specific error (`'b' was not declared in this scope`). The next line shows us the line which causes the problem (`b=1;`). The final line tells us that the exist status of the compiler was 1 (Which means error) and repeats the specific error.\n",
        "\n",
        "**Note:** When you get a lot of errors from the Arduino IDE, a good rule of thumb is to scroll up the list of errors to the first error encountered.  Fixing this error first can then resolve all the following errors.\n",
        "\n",
        "A final example of scope is provided below:\n",
        "\n",
        "```c\n",
        "int a; // \"a\" is a global variable\n",
        "\n",
        "void setup() {\n",
        "    int b; // \"b\" is a local setup\n",
        "}\n",
        "\n",
        "void loop() {\n",
        "    int c;  // \"c\" is local to loop\n",
        "    \n",
        "    c = 1;\n",
        "\n",
        "    if( c == 1 ) {\n",
        "        int d = 2;\n",
        "    }\n",
        "\n",
        "    // This will cause an error, because\n",
        "    // d was in a LOWER scope, and so no\n",
        "    // longer exists in the HIGHER scope.\n",
        "    d = 0;\n",
        "}\n",
        "\n",
        "\n",
        "```\n"
      ]
    },
    {
      "cell_type": "markdown",
      "metadata": {
        "id": "pQnH1HZemOxc"
      },
      "source": [
        "# Variables: Persistence and Undefined Behaviour\n",
        "\n",
        "\n",
        "\n",
        "```c\n",
        "int a; // \"a\" is a global variable\n",
        "\n",
        "void setup() {\n",
        "    int b; // \"b\" is a local setup\n",
        "    a = 0;\n",
        "    b = 0;\n",
        "}\n",
        "\n",
        "void loop() {\n",
        "    int c;  // \"c\" is local to loop\n",
        "    \n",
        "    c = c + 1;\n",
        "    a = a + 1;\n",
        "}\n",
        "```\n",
        "\n",
        "In the above example, if the Arduino was powered up and `loop()` ran 10 times, what would be the values of the variables:\n",
        "- `a`?\n",
        "- `b`?\n",
        "- `c`?\n",
        "\n",
        "**Undefined Behaviour:** The first question you might have is, what value does `c` begin with?  `c` is declared in `loop()` but not given an intial value.  The code continues to increment the value of `c` in the line ` c = c + 1`.  In the above code we assume that a declared variable initialises to a value of `0` - this is correct within Arduino, but is it true for all microcontrollers?  Making assumptions like this is bad practice.  It is much better to be explicit and to set initial values.  Try to be aware of when your code makes assumptions like this which may lead to undefined behaviour.  \n",
        "\n",
        "**Persistence:** In the above example `a` is set as a global variable and so it will retain it's value throughout the execution of your program.  In contrast, `b` and `c` are local variables, which means they will only retain their value during the execution of their scope, `setup()` and `loop()` respectively.  Another way to think of this, is that the global scope will always be in execution, whilst local scopes are temporary.\n",
        "\n",
        "As such, b is declared and initialised within `setup()` to a value of 0, and then deleted when `setup()` finishes, moving on to `loop()`.  In contrast, the global variable `a` is set to an initial value of 0 within `setup()`, and even though `setup()` closes, `a` will retain it's value.\n",
        "\n",
        "Each time `loop()` runs, variable `c` is newly created and has its value initialised to 0.  Therefore, the result of `c = c + 1` will equal 1 every time `loop()` is run.  In contrast, `a` is declared in the global scope and retains it's value.  This means that for 10 runs of `loop()`, `a` will hold the value 10.\n",
        "\n"
      ]
    },
    {
      "cell_type": "markdown",
      "metadata": {
        "id": "2vi2Hl2a8n4W"
      },
      "source": [
        "<hr><br><br><br><br>"
      ]
    },
    {
      "cell_type": "markdown",
      "metadata": {
        "id": "5FR3S2AemOxc"
      },
      "source": [
        "## Exercise 3: Using Variables\n",
        "\n",
        "1. Add code to the main loop of the Blink example which stops the LED from flashing after 10 flashes.\n",
        "    - **Help:** you will need to use an `if()` conditional statement (selection) to check the status of a variable you create to count up to 10.  You can think of this as a way to branch your code (go one direction or another).  As a template, you might want to structure your code like:\n",
        "\n",
        "```c\n",
        "\n",
        "if( my_count < 10 ) {\n",
        "        // do flashing LED behaviour\n",
        "} else {\n",
        "        // just keep the LED off.\n",
        "}\n",
        "\n",
        "```\n",
        "\n",
        "  - When you have created your solution, ask yourself questions about what type of errors it may generate over time:\n",
        "    - does your counting stop at 9, 10, or 11?  How could each of these stopping conditions occur?\n",
        "    - what would happen if your code starts counting from a negative value?\n",
        "\n",
        "\n",
        "\n"
      ]
    },
    {
      "cell_type": "markdown",
      "metadata": {
        "id": "40Cc1VHg83c2"
      },
      "source": [
        "<hr><br><br><br><br>"
      ]
    },
    {
      "cell_type": "markdown",
      "metadata": {
        "button": false,
        "run_control": {
          "read_only": false
        },
        "id": "2JXfzjnBmOxd"
      },
      "source": [
        "# Functions\n",
        "\n",
        "In the previous two exercises, we used the word **`function`** multiple times without really defining what it means. In essence, a function is a way of organising code by separating it into blocks of code which together perform a single task. We have already seen two functions - `setup()` and `loop()`. We can define our own functions by code to a specific template, outlined in abstract below:"
      ]
    },
    {
      "cell_type": "markdown",
      "metadata": {
        "button": false,
        "run_control": {
          "read_only": false
        },
        "id": "SY9hyQ5ZmOxd"
      },
      "source": [
        "```c\n",
        "return_type functionName( variable_type variable_name, variable_type variable_name ) {\n",
        "    // Code goes here\n",
        "    // ...\n",
        "    // ...\n",
        "        \n",
        "        \n",
        "    // This line ends this function and passes the value\n",
        "    // back to where the function was called.\n",
        "    // If the return_type of your function is void, you can\n",
        "    // omit return, or just use return;\n",
        "    return value;\n",
        "}\n",
        "```"
      ]
    },
    {
      "cell_type": "markdown",
      "metadata": {
        "button": false,
        "run_control": {
          "read_only": false
        },
        "id": "Uhxy_6PdmOxd"
      },
      "source": [
        "In the above code extract, if we observe the bottom line, we can see the function is encapsulated with curly-braces `{}`.  \n",
        "- The area within the curly-braces defines the code area of the function.  \n",
        "- Code outside of these curly-braces would not be within the function, and may even cause an error.  \n",
        "- A common error is to have too many or too few curly-braces.  Curly-braces must always exist in matching-pairs.\n",
        "- It helps to indent your code with each subsequent use of curly-braces.\n",
        "\n",
        "Just prior to the opening curly-brace `{` we have the function name definition.  The function name is provided as:\n",
        "\n",
        "`return_type functionName( variable_type variable_name, variable_type variable_name )`\n",
        "\n",
        "- `return_type` should either be `void` to indicate that the function does not provide a result, or `return_type` should take a variable data type, such as `float`, `int`, etc.\n",
        "- This example function has 2 **`arguments`** provided.  \n",
        "  - These are input information to the function, provided when the function is called (executed, from elsewhere in the program).  \n",
        "  - An argument requires similar information to a variable declaration - the function needs to know the data type, and a name for the argument to be referred to.  \n",
        "  - A function can have no arguments, or many arguments.\n",
        "\n",
        "We could write a function called `blink_leds` which turns the LEDs on and then off again. To do so, we would first write:"
      ]
    },
    {
      "cell_type": "markdown",
      "metadata": {
        "button": false,
        "run_control": {
          "read_only": false
        },
        "id": "no7W5HyFmOxd"
      },
      "source": [
        "```c\n",
        "void flash_leds () {\n",
        "  digitalWrite(LED_BUILTIN, HIGH);   // turn the LED on (HIGH is the voltage level)\n",
        "  delay(1000);                       // wait for 1 second (i.e 1000 milli seconds)\n",
        "  digitalWrite(LED_BUILTIN, LOW);    // turn the LED off by making the voltage LOW\n",
        "  delay(1000);\n",
        "}\n",
        "```"
      ]
    },
    {
      "cell_type": "markdown",
      "metadata": {
        "button": false,
        "run_control": {
          "read_only": false
        },
        "id": "EXdtXWUxmOxd"
      },
      "source": [
        "Note that we have used a return data type `void` - this means that our function does not return a value.  The example below shows how this new function could be called (executed):\n"
      ]
    },
    {
      "cell_type": "markdown",
      "metadata": {
        "button": false,
        "run_control": {
          "read_only": false
        },
        "id": "cYypfWMhmOxd"
      },
      "source": [
        "```c\n",
        "// A function to turn the standard debug led (pin 13)\n",
        "// on and off, waiting 1 second between.\n",
        "void flash_leds () {\n",
        "    \n",
        "  digitalWrite(LED_BUILTIN, HIGH);   // turn the LED on (HIGH is the voltage level)\n",
        "  delay(1000);                       // wait for a second\n",
        "  digitalWrite(LED_BUILTIN, LOW);    // turn the LED off by making the voltage LOW\n",
        "  delay(1000);\n",
        "    \n",
        "}\n",
        "\n",
        "// the setup function runs once when you press reset or power the board\n",
        "void setup() {\n",
        "    \n",
        "  // initialize digital pin LED_BUILTIN as an output.\n",
        "  pinMode(LED_BUILTIN, OUTPUT);\n",
        "    \n",
        "}\n",
        "\n",
        "// the loop function runs over and over again forever\n",
        "void loop() {\n",
        "    \n",
        "  flash_leds();                     // calling our bespoke function\n",
        "    \n",
        "}\n",
        "```"
      ]
    },
    {
      "cell_type": "markdown",
      "metadata": {
        "button": false,
        "run_control": {
          "read_only": false
        },
        "id": "UX1NoQYymOxd"
      },
      "source": [
        "As we discussed above, we can also pass information into a function by giving it some input variables. For example, we might want to make a variable for controlling the rate at which the LED flashes. To do so, we would change our flash_led function as follows:"
      ]
    },
    {
      "cell_type": "markdown",
      "metadata": {
        "button": false,
        "run_control": {
          "read_only": false
        },
        "id": "9OAv-whWmOxd"
      },
      "source": [
        "```c\n",
        "void flash_leds( int delay_ms ) {\n",
        "    \n",
        "  digitalWrite(LED_BUILTIN, HIGH);   // turn the LED on (HIGH is the voltage level)\n",
        "  delay( delay_ms );                       // wait for a second\n",
        "  digitalWrite(LED_BUILTIN, LOW);    // turn the LED off by making the voltage LOW\n",
        "  delay( delay_ms );\n",
        "    \n",
        "}\n",
        "```"
      ]
    },
    {
      "cell_type": "markdown",
      "metadata": {
        "button": false,
        "run_control": {
          "read_only": false
        },
        "id": "5eUsLWQnmOxe"
      },
      "source": [
        "We would then also need to adjust the **`call`** to the function, because the function now expects to receive an argument:\n",
        "\n",
        "```c\n",
        "\n",
        "void loop() {\n",
        "\n",
        "  flash_leds( 500 );\n",
        "\n",
        "}\n",
        "```\n",
        "\n",
        "As well as passing information into a function, we may also want to get a result back from a function. To do this, we must set the return type to match the kind of data we want to receive, and then end our function with the line `return (value)`.\n",
        "\n",
        "For example, we might want to write a function which calculates the sum of two numbers. To do so, we would first need to decide what type of numbers we want to add (ints or floats). If we assume we only want to add integers, then we could write:"
      ]
    },
    {
      "cell_type": "markdown",
      "metadata": {
        "button": false,
        "run_control": {
          "read_only": false
        },
        "id": "3h7RUZ0nmOxe"
      },
      "source": [
        "```c\n",
        "\n",
        "int add_two_numbers(int number1, int number2) {\n",
        "\n",
        "    int result;\n",
        "    result = number1 + number2;\n",
        "    \n",
        "    return result;\n",
        "}\n",
        "\n",
        "```"
      ]
    },
    {
      "cell_type": "markdown",
      "metadata": {
        "button": false,
        "run_control": {
          "read_only": false
        },
        "id": "Pi_ZR4CKmOxe"
      },
      "source": [
        "We would then adjust our function call to utilse the assignment operator to catch the return value:"
      ]
    },
    {
      "cell_type": "markdown",
      "metadata": {
        "button": false,
        "run_control": {
          "read_only": false
        },
        "id": "8xQ0ZpTrmOxe"
      },
      "source": [
        "```c\n",
        "\n",
        "void loop() {\n",
        "\n",
        "  int a;  // create an integer variable named \"a\"\n",
        "          // where we will store our result.\n",
        "\n",
        "  a = add_two_numbers(1, 2);  // Call our function.  We\n",
        "                              // Pass in two values, 1 , 2.\n",
        "                              // We declared that the function\n",
        "                              // returns an 'int', which we store\n",
        "                              // into \"a\"\n",
        "}\n",
        "\n",
        "```"
      ]
    },
    {
      "cell_type": "markdown",
      "metadata": {
        "button": false,
        "run_control": {
          "read_only": false
        },
        "id": "-gTXStetmOxe"
      },
      "source": [
        "The variable \"a\" will store the value 3."
      ]
    },
    {
      "cell_type": "markdown",
      "metadata": {
        "id": "8KgdtvLr8wHm"
      },
      "source": [
        "<hr><br><br><br><br>"
      ]
    },
    {
      "cell_type": "markdown",
      "metadata": {
        "button": false,
        "run_control": {
          "read_only": false
        },
        "id": "79EuxSh9mOxe"
      },
      "source": [
        "## Exercise 4: Using Functions\n",
        "\n",
        "1. Write a function to rapidly toggle the buzzer on your 3Pi+, so that we can hear it beep:\n",
        "  - Write your function so that everytime it is called the buzzer switches on and then off.  Use `digitalWrite()` to achieve this.\n",
        "  - Go to <a href=\"https://www.pololu.com/docs/0J83/5.9\">the pin assignment section of the documentation</a> and find which pin is used to control the buzzer.  You will want to use the value found in the `Arduino pin names` column within your code.\n",
        "  - Start by using the `delay()` function with a value of 5.  Once this works, what happens to the sound with different argument values provided to `delay()`?\n",
        "  - **Help**: use the same `pinMode()` and `digitalWrite()` functions we have seen used earlier in this labsheet.  Remember to update which pin you are using.\n",
        "  - **Help**: are we using the buzzer an `INPUT` to the system, or an `OUTPUT` from the system?\n",
        "  - **Help**: it is good practice to use `#define` at the top of your program (`global scope`) to set parameters which will not change for the duration of your program.  In this case, the buzzer pin will not change.  Your code will then also be easier to read:\n",
        "\n",
        "```c\n",
        "#define BUZZER_PIN ?\n",
        "\n",
        "// later...\n",
        "digitalWrite( BUZZER_PIN, LOW );\n",
        "//...\n",
        "digitalWrite( BUZZER_PIN, HIGH );\n",
        "\n",
        "```\n",
        "\n",
        "2. Replace `delay()` with `delayMicroseconds()` (<a href=\"https://www.arduino.cc/reference/en/language/functions/time/delaymicroseconds/\">reference page</a>), what happens to the sound?  \n",
        "  - **Help**: You may need to explore different values sent to `delayMicroseconds()`.\n",
        "  - **Help**: You can operate the buzzer outside of the human range of hearing.  You should experiment with your time interval between calls to analogWrite().  You might only hear a mechanical clicking, and not the ultrasonic or subsonic tone-sound.\n",
        "  - **Help**: The buzzer is a useful way to debug your 3Pi+ behaviours but it can get annoying.  You can use a bit of blu-tack or tape to cover the hole of the buzzer to make the beeping much softer to your delicate human ears.\n",
        "\n",
        "<p><br></p>\n",
        "\n",
        "3. Write an improved function to control the buzzer which takes an argument to control the duration that the buzzer is on and off.  \n",
        "  - **Help**: Here is an example function to complete:\n",
        "\n",
        "```c\n",
        "void beep( int toggle_duration ) {\n",
        "\n",
        "}\n",
        "```  \n",
        "\n",
        "<p><br></p>\n",
        "\n",
        "4. Utilise a `global variable` so that every time your main `loop()` iterates it sends an incrementing value to your beep function.  \n",
        "\n"
      ]
    },
    {
      "cell_type": "markdown",
      "metadata": {
        "id": "lwPuaqQCmOxe"
      },
      "source": [
        "<hr><br><br><br><br>\n"
      ]
    },
    {
      "cell_type": "markdown",
      "metadata": {
        "button": false,
        "run_control": {
          "read_only": false
        },
        "id": "fQCkLKEkmOxe"
      },
      "source": [
        "# Serial Communication: Output"
      ]
    },
    {
      "cell_type": "markdown",
      "metadata": {
        "button": false,
        "run_control": {
          "read_only": false
        },
        "id": "HywNPY8jmOxe"
      },
      "source": [
        "Serial communication allows information to be sent back to the computer you are working on via the USB cable.  Importantly, the USB cable needs to remain plugged in to use Serial.  Serial is good tool for debuging and devloping your code because you can use it to allow your robot to send back messages, and to send back the value of variables.  For a more in-depth look at Serial, you may want to look at this <a href=\"https://learn.sparkfun.com/tutorials/serial-communication/all#serial-intro\">Spark Fun article</a>.   \n",
        "\n",
        "When we use Serial, we are actually using a `class` of code, which has some special features.  You will notice that when we use Serial there is a pattern.  Here are some Serial commands:\n",
        "```c\n",
        "Serial.begin(9600);\n",
        "// ...\n",
        "Serial.print(\"test\\n\");\n",
        "Serial.println(\"another test\");\n",
        "```\n",
        "\n",
        "In the above, we are making a function call suffixed to the `.` (dot) operator.  Whilst this looks different, it otherwise behaves in the same way to the functions we have written and used previously.  We will come back `classes` in more detail in a later labsheet.  \n",
        "\n",
        "To use the Serial connection, we must first initialise the connection back to the computer.  We have to set the baud rate (Number of bits / second) the connection should use. The best place to do this is in the setup() function, so that it happens only once when the robot is powered on.\n",
        "\n",
        "We can then use the connection to send messages back to our PC by calling the functions:\n",
        "- `Serial.println()` (<a href=\"https://www.arduino.cc/reference/en/language/functions/communication/serial/print/\">Arduino Reference</a>)\n",
        "- `Serial.print()` (<a href=\"https://www.arduino.cc/reference/en/language/functions/communication/serial/println/\">Arduino Reference</a>)\n",
        "\n",
        "Let's take a look at some example code:\n",
        "\n",
        "```c\n",
        "void flash_leds () {\n",
        "  digitalWrite(LED_BUILTIN, HIGH);   // turn the LED on (HIGH is the voltage level)\n",
        "  delay(1000);                       // wait for a second\n",
        "  digitalWrite(LED_BUILTIN, LOW);    // turn the LED off by making the voltage LOW\n",
        "  delay(1000);\n",
        "}\n",
        "\n",
        "// the setup function runs once when you press reset or power the board\n",
        "void setup() {\n",
        "\n",
        "  // initialize digital pin LED_BUILTIN as an output.\n",
        "  pinMode(LED_BUILTIN, OUTPUT);\n",
        "\n",
        "  //Start a serial connection\n",
        "  Serial.begin(9600);\n",
        "\n",
        "  // Wait for stable connection, report reset.\n",
        "  delay(1000);\n",
        "  Serial.println(\"***RESET***\");\n",
        "\n",
        "}\n",
        "\n",
        "// the loop function runs over and over again forever\n",
        "void loop() {\n",
        "  int my_int;\n",
        "  my_int  = 5;\n",
        "\n",
        "  flash_leds();                     // flash LEDS\n",
        "  Serial.print(\"Hello: \");\n",
        "  Serial.print( my_int );\n",
        "  Serial.print(\"\\n\");\n",
        "}\n",
        "\n",
        "```\n",
        "\n",
        "In the above code, we see the familiar functions `flash_leds()`, `setup()` and `loop()`.  Within `setup()`, we now also see the Serial connection back to the computer being initialised with the line:\n",
        "```c\n",
        "Serial.begin(9600);\n",
        "```\n",
        "\n",
        "After this, we have:\n",
        "```c\n",
        "  // Wait for stable connection, report reset.\n",
        "  delay(1000);\n",
        "  Serial.println(\"***RESET***\");\n",
        "```\n",
        "\n",
        "The above code serves to send an initial message back to your computer when your 3Pi+ turns on.  This is a good habit to adopt in your code.  If (or when) your 3Pi+ becomes low on battery power, your 3Pi+ may reset itself.  From the outside, you would only see your robot briefly stop, and then continue again - although with strange behaviour.  Temporarily losing power in this way is called a `brown out`, and it can be a hard problem to spot.   By always transmitting a message like `***RESET***`, we can know when a `brown-out` has occured.  The prior call to `delay(1000)` addresses a common bug where opening the Serial connection too early can fail.\n",
        "\n",
        "Within `loop()`, we see the following code extract:\n",
        "\n",
        "```c\n",
        "  int my_int;\n",
        "  my_int  = 5;\n",
        "\n",
        "  flash_leds();                     // flash LEDS\n",
        "  Serial.print(\"Hello: \");\n",
        "  Serial.print( my_int );\n",
        "  Serial.print(\"\\n\");\n",
        "```\n",
        "\n",
        "In this example code, we can see different ways that `Serial.print()` can be used.  The above code extract would produce the following text on the Arduino IDE Serial Monitor (the window to view communication):\n",
        "\n",
        "<p align=\"center\">\n",
        "<img src=\"https://github.com/paulodowd/EMATM0054_53_23-24/blob/main/Images/SerialMonitor.png?raw=true\">\n",
        "</p>\n",
        "\n",
        "\n",
        "- When `Serial.print()` is used, all data sent to the Arduino Serial Monitor will appear on a single line.  \n",
        "- You can send messages to the Arduino Serial Monitor by enclosing text within double quotation marks (`\"`).\n",
        "- You can send the value of a variable to the Arduino Serial Monitor by providing the name of the variable to the `Serial.print()` function.\n",
        "- Multiple calls to `Serial.print()` can be used to create a line of text that includes variable values, such as the example above.\n",
        "- When using `Serial.print()`, it is necessary to add the special character `\\n` if you need to finish the line of text.\n",
        "- If you instead use `Serial.println()`, `\\n` is added automatically, causing a new line.  \n"
      ]
    },
    {
      "cell_type": "markdown",
      "metadata": {
        "button": false,
        "run_control": {
          "read_only": false
        },
        "id": "U-pPtagKmOxf"
      },
      "source": [
        "\n",
        "\n",
        "\n",
        "## Exercise 5: Serial Output\n",
        "\n",
        "1. Intergrate the above example code with your work from Exercise 4.  Report the current `toggle_duration` being used in your beep function for the buzzer.\n",
        "  - **Help:** If you do not include a `newline` in your Serial print statement, the monitor may not update meaning you will not see anything.  You may see a long stream of numbers running across the Serial Monitor.  There are two ways to include a `newline`:\n",
        "    - `Serial.println()`, println automatically adds a `newline`.  This is convenient.  However, sometimes you will need to print multiple numbers to a single line, so you would not want a `newline`.\n",
        "    - `Serial.print(\"\\n\");` print does not automatically include a `newline`, but you can add one manually with the `\"\\n\"` special character.  You can also use print in this way to add a comma, e.g. `Serial.print(\",\");`.  This can be useful to print consecutive values to review per line:\n",
        "    ```c\n",
        "    Serial.print( value1 );\n",
        "    Serial.print( \",\" );\n",
        "    Serial.print( value2 );\n",
        "    Serial.print( \",\" );\n",
        "    Serial.print( value3 );\n",
        "    Serial.print( \"\\n\" );\n",
        "    ```\n",
        "    \n",
        "\n"
      ]
    },
    {
      "cell_type": "markdown",
      "metadata": {
        "id": "NvFF2SWC7nWE"
      },
      "source": [
        "<hr><br><br><br><br>"
      ]
    },
    {
      "cell_type": "markdown",
      "metadata": {
        "id": "pnqACOWrmOxf"
      },
      "source": [
        "# Serial Plotter\n",
        "\n",
        "Finally, it is often useful to see a plot of data produced by our system.  For instance, if you have a variable which is going to change over time, it would be useful to actually see how it is changing to check if it is working as expected.  \n",
        "\n",
        "The Arduino IDE comes with a built in plotter to do just that. If we print a number we can see it plotted by pressing `Ctrl` + `Shift` + `L`.   We can view multiple plots by ensuring values are printed seperated by commas.  The following code provides a working example:\n",
        "\n",
        "```c\n",
        "// Including the standard math library to\n",
        "// utilise sin and cos functions, and the\n",
        "// TWO_PI constant.\n",
        "#include <math.h>\n",
        "\n",
        "float a;\n",
        "float b;\n",
        "float c;\n",
        "\n",
        "void setup() {\n",
        "\n",
        "  //Start a serial connection\n",
        "  Serial.begin( 9600 );\n",
        "  \n",
        "  // Wait for stable connection, report reset.\n",
        "  delay(1000);\n",
        "  Serial.println(\"***RESET***\");\n",
        "\n",
        "  a = TWO_PI;\n",
        "  b = a;\n",
        "  c = b;\n",
        "\n",
        "}\n",
        "\n",
        "void loop() {\n",
        "  \n",
        "  a += 0.01;\n",
        "  b = sin( a * 20 );\n",
        "  c = cos( a * 10 );\n",
        "\n",
        "  Serial.print( a );\n",
        "  Serial.print( \",\");\n",
        "  Serial.print( b );\n",
        "  Serial.print( \",\");\n",
        "  Serial.print( c );\n",
        "  \n",
        "  Serial.print( \"\\n\" );   // Finish with a newline\n",
        "  //Serial.println( \"\" ); // either of these two work.\n",
        "\n",
        "  delay(50);\n",
        "\n",
        "}\n",
        "\n",
        "```\n",
        "\n",
        "On the Serial Monitor, you would see `comma seperated values` (CSV) in a text string like:\n",
        "\n",
        "<p align=\"center\">\n",
        "<img src=\"https://github.com/paulodowd/EMATM0054_53_23-24/blob/main/Images/Serial_CSV.png?raw=true\">\n",
        "</p>\n",
        "\n",
        "\n",
        "And on the Serial Monitor you should be able to see, with the different colours representing the order of `a`, `b` and `c` as executed with `Serial.print()`:\n",
        "\n",
        "<p align=\"center\">\n",
        "<img src=\"https://github.com/paulodowd/EMATM0054_53_23-24/blob/main/Images/SerialPlotter.png?raw=true\">\n",
        "</p>\n",
        "\n"
      ]
    }
  ]
}