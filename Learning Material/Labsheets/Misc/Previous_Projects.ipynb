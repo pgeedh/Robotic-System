{
  "nbformat": 4,
  "nbformat_minor": 0,
  "metadata": {
    "colab": {
      "provenance": [],
      "collapsed_sections": [],
      "authorship_tag": "ABX9TyMNH/MXwrHNUQ5Bl8HU989U",
      "include_colab_link": true
    },
    "kernelspec": {
      "name": "python3",
      "display_name": "Python 3"
    },
    "language_info": {
      "name": "python"
    }
  },
  "cells": [
    {
      "cell_type": "markdown",
      "metadata": {
        "id": "view-in-github",
        "colab_type": "text"
      },
      "source": [
        "<a href=\"https://colab.research.google.com/github/paulodowd/EMATM0054_22-23/blob/main/Previous_Projects.ipynb\" target=\"_parent\"><img src=\"https://colab.research.google.com/assets/colab-badge.svg\" alt=\"Open In Colab\"/></a>"
      ]
    },
    {
      "cell_type": "markdown",
      "source": [
        "##Exploring Unknown Environments and Spotting Differences on Revisits\n",
        "\n",
        "Abstract—This project investigated a Breadth-first searching\n",
        "algorithm and proximity sensor-based mobile robot system to\n",
        "achieve exploring unknown environments and spotting differences\n",
        "on revisits. The proximity sensor-based mobile robot system\n",
        "can effectively deal with various basic scenarios, with the limitation\n",
        "of the characteristics of proximity sensor, the performance\n",
        "of the robot to explore complex environmental information, such\n",
        "as the color of obstacles, is restrained. This report proposed a\n",
        "solution incorporating the camera sensor into the robot system.\n",
        "With the extra visual information, the robot can add more specific\n",
        "information into map so that the performance of environmental\n",
        "perception can be enhanced. We designed various experimental\n",
        "scenarios and different metrics to comprehensively evaluate\n",
        "the system performance using different sensors. Finally, we\n",
        "demonstrate that our robot can effectively explore the unknown\n",
        "environments and spot differences, furthermore, adding camera\n",
        "sensor can greatly improve the map exploration performance.\n",
        "\n"
      ],
      "metadata": {
        "id": "OY788jmRfbD5"
      }
    },
    {
      "cell_type": "markdown",
      "source": [
        "#Leader-Follower Motion Control using the 3Pi+ Bump Sensors\n",
        "\n",
        "Abstract—This report presents the implementation of leaderfollower\n",
        "motion control using two Pololu 3Pi+ 32U4 robots.\n",
        "The leader-robot leads in a specific line following motion, and\n",
        "the follower-robot is able to maintain stable contact behind\n",
        "the leader-robot based on continuous readings from two bump\n",
        "sensors. Aiming for controlling the wheels speeds and heading\n",
        "of robots effectively, the PID controls are adopted in both the\n",
        "leader and follower robot. To evaluate the stability of the leaderfollower\n",
        "relationship, the testing environment including straight\n",
        "line and different types of corners and turns. By recording the\n",
        "bump sensor reading and wheels velocity, we reproduce the whole\n",
        "process of following, and compare the performance of leaderfollower\n",
        "motion under different parameters. Experimental results\n",
        "show that our leader-follower system achieves good results when\n",
        "the proportional gain of follower-robot’s heading controller is\n",
        "Kp = 0.7 and the wheels velocity of it is 0.4."
      ],
      "metadata": {
        "id": "3jrleY4rfeH5"
      }
    },
    {
      "cell_type": "markdown",
      "source": [
        "# Exploring Improvement of Heading Estimation with Gyroscope and Magnetometer Based on Kalman Filtering Method\n",
        "\n",
        "Abstract—This report demonstrates a method to apply magnetometer\n",
        "and gyroscope for heading estimation in the situation\n",
        "that encoder odometry is not reliable when wheel rotation cannot\n",
        "precisely represent robot movement. A two-layer Kalman filter\n",
        "is applied to reduce the sensor noises. A series of experiments\n",
        "are designed to evaluate robot heading estimation performance\n",
        "of encoder odometry and sensor filtering method in three motion\n",
        "patterns and collision situation. The result shows that the sensor\n",
        "filtering method reduces noises from sensors and has better\n",
        "heading estimation than encoder odometry in collision situation."
      ],
      "metadata": {
        "id": "IXykYBoRfnHG"
      }
    },
    {
      "cell_type": "markdown",
      "source": [
        "# Maximum Velocity Threshold Prediction Based on Fuzzy PID\n",
        "\n",
        "Abstract—As traditional PID isn't flexible enough to respond to changes in the environment. We proposed in this research that a fuzzy PID algorithm be implemented to improve the performance of the conventional PID. When the robot is under fuzzy PID control, the yawing ability may vary. The task/environment should be investigated for the limits of its operation for a given set of PID settings and target velocity. Two tests were conducted to assess the fuzzy PID algorithm, and it was determined that fuzzy PID outperformed conventional PID. After that, we proposed maximum velocity threshold prediction to predict the yaw capability of a robot with a given task and fuzzy PID variables. This method was tested by the data recorded during the experiment process."
      ],
      "metadata": {
        "id": "waLnfiybfq1-"
      }
    },
    {
      "cell_type": "markdown",
      "source": [
        "# Detecting and identifying direction of ferromagentic materials using magnetometer sensor of Pololu 3pi+\n",
        "\n",
        "Abstract— This report proposes two solutions for identifying the presence of a magnetic object in the vicinity of the Pololu 3pi+ mobile robot. The Pololu 3pi+ At mega 32U4 has a LIS3MDL 3 axial magnetometer sensor mounted on the robot. Firstly, a baseline solution is suggested for detecting the magnetic object and identifying the angle of the ferro-magnetic objects w.r.t to robot. It is found out that the baseline solution can detect the presence of a magnetic object. However, it is unable to deduce its angular direction. Hence, to extrapolate the angular direction using a magnetometer sensor, an improved solution is proposed. The solution is staged in two parts. The first part locates the optimum stretch at which the sensor detects the magnet with minimum error. The second part investigates the value of the mean standard deviation of the error for that distance. It is discovered that the optimum distance is 5 centimeters from the mobile robot with 2.1 degrees of mean angular deviation.\n"
      ],
      "metadata": {
        "id": "5Ed_j1OBfvcq"
      }
    },
    {
      "cell_type": "markdown",
      "source": [
        "# A Multifaceted Investigation and Analysis of Conventional PID and Adaptive PID-Fuzzy PID\n",
        "\n",
        "Abstract—With the widespread use of robots, the environments\n",
        "they face are becoming increasingly complex. Although traditional\n",
        "PID have the advantages of high control accuracy and\n",
        "simplicity, when the control system is nonlinear, with significant\n",
        "disturbances and strong time-variation, the control performance\n",
        "of PID will be dramatically reduced, and even the robot might\n",
        "lose control. Adaptive PID controllers, such as Fuzzy PID,\n",
        "can deal with these problems very well. In this paper, the\n",
        "principles of PID and Fuzzy PID are introduced in detail. And\n",
        "the performance of the PID and Fuzzy PID is experimented by\n",
        "using different algorithms to control the 3Pi+ robot moving and\n",
        "rotating in different environments, as well as applying fixed and\n",
        "random disturbances. It is finally found that the Fuzzy PID is\n",
        "much more adaptable than PID, but the control accuracy is lower\n",
        "than tuned PID."
      ],
      "metadata": {
        "id": "rwisI0DSf39m"
      }
    },
    {
      "cell_type": "markdown",
      "source": [
        "# Leader-Follower Motion Control\n",
        "\n",
        "Abstract— In this research, the Leader-Follower motion control is applied to simulate swarm robots working in warehouses. And we will implement a Leader-Follower Motion Control using PID and Bang-bang controllers and conduct experiments to determine which type of control system performs the best while the leader vehicle drives on a path simulating a real route within a warehouse. To analyses these two systems, we will plot the proportion of middle collisions and the paths of two vehicles on a pie chart but also calculate the vibration and deviation metrics. Finally, we conclude with an objective review that the PID controller has an excellent performance on vibration but a higher deviation."
      ],
      "metadata": {
        "id": "8govCjn3jgyW"
      }
    },
    {
      "cell_type": "markdown",
      "source": [
        "# Mapping the Finite Field Using Bunp Sensors\n",
        "\n",
        "Abstract\n",
        "This report investigates the way to map the\n",
        "position of obstacles in a 2D field using bump\n",
        "sensors of a Pololu 3Pi+ 32U4 robot. The rotary\n",
        "encoder was used to acquire the positions\n",
        "of the robot and obstacles. The black tape lines\n",
        "were located in the field to support the robot to\n",
        "move and the line sensors were used to follow\n",
        "tape lines. We made a hypothesis that the accuracy\n",
        "of mapping depends on the moving speed\n",
        "of the robot and higher speed can cause more errors.\n",
        "Therefore, in this report, the experiments\n",
        "at several speeds from 50mm/s to 200mm/s were\n",
        "conducted and discussed about the results."
      ],
      "metadata": {
        "id": "dMY9ioyb848r"
      }
    },
    {
      "cell_type": "markdown",
      "source": [
        "# Leader-Follower Motion Control\n",
        "\n",
        "Abstract — This report mainly focuses on the bump sensors\n",
        "and aims to realize the leader-follower motion control by using\n",
        "two 3PI+ robots. The continuous readings from the bumpsensors\n",
        "should allow one robot to follow another without\n",
        "pushing the leading robot off course. On the one hand, we use\n",
        "a weighting algorithm to balance the difference between left\n",
        "and right sensors. On the other hand, considering the\n",
        "interaction of forces, supplementary algorithm is adopted to\n",
        "ensure that the motion of the leading robot is not affected. This\n",
        "experiment is instructive for the interactive control of swarm\n",
        "robots."
      ],
      "metadata": {
        "id": "FJ2J8LABBjlG"
      }
    },
    {
      "cell_type": "markdown",
      "source": [
        "# Surface Differentiation and Identification Using Infra-Red Reflectance Sensors\n",
        "\n",
        "Abstract—This project assesses the efficacy of using the Polulu\n",
        "3Pi+ robot’s infra-red sensors for the purpose of detecting/\n",
        "identifying varying surfaces. In addition to this, we considered the\n",
        "impact that interference from changing lighting conditions have\n",
        "on the sensors system, as this becomes an increasingly important\n",
        "consideration as robots move from static lab environments into\n",
        "the real world.\n",
        "Through testing in varying lighting conditions, it is found that\n",
        "interference had less of an impact than hypothesised, however,\n",
        "it is also found that removal of the exterior plastic shell of the\n",
        "robot had a significant impact on sensors performance."
      ],
      "metadata": {
        "id": "-IMJArOiJOtO"
      }
    },
    {
      "cell_type": "markdown",
      "source": [
        "# Assessment of Q-Learning Performance in line following challenge\n",
        "Abstract—This paper analyses the performance of a QLearning\n",
        "algorithm in controlling a Pololu 3π+32U4 mobile\n",
        "robot over a line following challenge. The Q-Learning algorithm\n",
        "was successfully implemented and compared with a PID\n",
        "and a BangBang controller. The Q-Learning algorithm has\n",
        "proved to have performances approaching those of the PID\n",
        "and presented lower oscillations throughout the challenge."
      ],
      "metadata": {
        "id": "DGnIL-FvtkkT"
      }
    },
    {
      "cell_type": "markdown",
      "source": [
        "# Use of PID for payload weight prediction in a mobile robotic application\n",
        "\n",
        "Abstract—Vehicle weighing methods typically require static\n",
        "payload weight measurement to achieve required accuracy. In\n",
        "this paper, it is shown that by measuring PID output of a 3Pi+\n",
        "robot at constant speed, the payload weight can be accurately\n",
        "determined (within 5% of actual weight) using a linear prediction\n",
        "model. Additional work performed shows that battery voltage has\n",
        "no effect on PID output for an operating range of 3.5V-6V."
      ],
      "metadata": {
        "id": "XOEhMXGYMdXe"
      }
    },
    {
      "cell_type": "markdown",
      "source": [
        "# An Investigation Into The Energy Efficiency Of Various Control Methods For A Robot With Line Following Capabilities\n",
        "\n",
        "Abstract—This report investigates the optimisation of the\n",
        "motion of a wheeled mobile robot in terms of energy efficiency.\n",
        "Four control methods used to determine motion are considered: a\n",
        "Proportional-Integral-Derivative (PID) controller, a P controller,\n",
        "a PI controller, and a dynamic P controller. Where the current\n",
        "in a system can’t be measured easily, an alternative method for\n",
        "measuring energy consumption is explored, which requires the\n",
        "robot to be connected to a circuit with known resistance and\n",
        "voltage. Current can be calculated using Ohm’s law, and thus\n",
        "instantaneous power consumption can be determined. The results\n",
        "suggest that the dynamic P controller is more energy efficient\n",
        "than its static counterparts, and that a controller which includes\n",
        "a derivative term to calculate feedback is less energy efficient.\n",
        "Furthermore, it is noted that the method for measuring energy\n",
        "can be effective when considering systems that are less prone\n",
        "to energy loss through friction, or as a result of movement of\n",
        "greater masses."
      ],
      "metadata": {
        "id": "Yc5rK1M3WEDY"
      }
    },
    {
      "cell_type": "markdown",
      "source": [
        "# Infrared Sensor-Based Leader-Follower System\n",
        "\n",
        "Abstract—During operation, the robot’s sensors can be damaged\n",
        "for a variety of reasons. By building a leader-follower system\n",
        "with other robots, the robustness and flexibility of the system\n",
        "are improved by using the constraints of the system and the\n",
        "undamaged sensors can continue to complete the task. This experiment\n",
        "uses two 3Pi+ mobile robots to simulate a follower without\n",
        "infrared line following sensors. Estimation of leader attitude using\n",
        "horizontal infrared sensors. Followers can indirectly complete\n",
        "the line following. The aim prediction algorithm proposed in this\n",
        "paper can not only follow accurately but also through specific\n",
        "angles compared to conventional algorithms."
      ],
      "metadata": {
        "id": "7lC0XvECdJME"
      }
    },
    {
      "cell_type": "markdown",
      "source": [
        "# A Comparative Study of Using 3 Different Control Approaches for Effective Line Following\n",
        "\n",
        "Abstract — Closed loop feedback systems are ubiquitous in almost all industries. Different applications call for specific control algorithms to complete a given task. Due to its sharp accuracy, the widely accepted PID is used extensively in industry. However, with accuracy comes hours of meticulous tuning. This paper evaluates how three control systems complete a set of line following tasks. Different starting conditions were used while determining each proposed controller's performance. Ultimately, we hope to bring awareness to the often neglected Bang-Bang and Fuzzy Logic Inference control systems."
      ],
      "metadata": {
        "id": "SHMqZLGr9FH2"
      }
    },
    {
      "cell_type": "markdown",
      "source": [
        "# Identification Accuracy Analysis and Application of IR Sensor\n",
        "Abstract—This report explored how confident the IR sensors\n",
        "can distinguish different types of grey scale, the value and the\n",
        "reliability is discussed. A large amount of data had been collected\n",
        "from the DN3 sensor to support the test and the experiment.\n",
        "Other sensors and lighting conditions appears as variable in the\n",
        "report. All of the sensors appeared the same trend but different\n",
        "value of the collected data. The sensors mostly can distinguish\n",
        "more than 13 grey scales in the most dark lighting condition,\n",
        "as the intensity of light increases, the area that the sensor can\n",
        "distinguish will be smaller, which means with a lower accuracy.\n",
        "According to the performance of the sensor in the dark area, an\n",
        "application of scanning grey tones which is like a bar code with\n",
        "different grey scale has been implemented with the DN3 sensor\n",
        "in the most general lighting condition."
      ],
      "metadata": {
        "id": "y8kVLerTHqdN"
      }
    },
    {
      "cell_type": "markdown",
      "source": [
        "# Effect comparison of following system based on Proportional Control and Bangbang Control\n",
        "\n",
        "Abstract—Due to the increasing popularity of robots in daily\n",
        "life, the utilization of sensors is becoming more and more\n",
        "common. As a result, it is becoming increasingly important to\n",
        "understand how sensors could be used for robot bump behavior.\n",
        "In this report, we explore how bump following between two\n",
        "robots can be performed using bump sensors. and two sets\n",
        "of methods are used for comparative analysis. The leader of\n",
        "both approaches uses a proportional controller for lead, and the\n",
        "follower uses a proportional controller and a bangbang controller\n",
        "respectively.As a result bangbang controller can achieve more\n",
        "stable performance of bump following."
      ],
      "metadata": {
        "id": "qza4clxkpv7L"
      }
    },
    {
      "cell_type": "markdown",
      "source": [
        "# Comparison between sensor fusion methods for removing uncertainty in robot  orientation over short distances\n",
        "\n",
        "Abstract—The accuracy with which a robot knows of any changes\n",
        "in its orientation can have a drastic effect on its performance\n",
        "in many situations. This paper investigates the effect on this\n",
        "accuracy of two sensor fusion techniques (Kalman filters and\n",
        "Complimentary filters), which combine orientation data from\n",
        "wheel encoder odometry and magnetometer data, relative to\n",
        "when only wheel encoder odometry is used. To compare the\n",
        "techniques, a Polulu 3pi+ robot was programmed to traverse\n",
        "between way-points on a square map whilst drawing out its route.\n",
        "By measuring the actual angle turned relative to the ideal of 90\n",
        "degrees, the accuracy of the heading values provided to the robot\n",
        "could be gauged. It was found that over 20 repeats, the encoders\n",
        "had a lower mean error in angle turned, as well as the lowest\n",
        "standard deviation across the repeats, when compared to the\n",
        "sensor fusion methods."
      ],
      "metadata": {
        "id": "9KaKWOaEYi7Q"
      }
    },
    {
      "cell_type": "markdown",
      "source": [
        "# Improving 1D Localisation on a Greyscale Gradient with IR sensor\n",
        "Abstract— Localisation is one of the basic principles in robot automation. There are numerous methods for robotic system to navigate but however, the improvement and optimization for the process are the most essential parts. Hardware and software combination eliminate the unwanted noise or signal for effectiveness, efficiency, and robustness. This report documents the improvement methods by evaluating different inputs measurement and processing, output control methodology and discussion based on experiment by using Pololu 3Pi+ integrated robot car coded by Arduino. Results have been discovered by employing low-pass filtered input processing and PI-motor control, the accuracy of localisation has been improved more than 60% depending on the greyscale. However, errors remain and the future work as well as the possible solutions will be attached.\n"
      ],
      "metadata": {
        "id": "dXyXNQu0dl_a"
      }
    },
    {
      "cell_type": "markdown",
      "source": [
        "# The Comparison of two Different Controllers in line Following Tasks\n",
        "Abstract—The paper focus on the comparison between two\n",
        "different controllers including PID controller and bang-bang\n",
        "controller in the line following. These controllers were tested\n",
        "using the 3Pi+ robot on different kind of lines. The difference in\n",
        "performance between the two controllers is compared using\n",
        "trajectory plots, heading angle change plots and a comparison\n",
        "matrix. The underlying reasons for the difference in\n",
        "performance between the two controllers are discussed."
      ],
      "metadata": {
        "id": "nQHki06djntl"
      }
    },
    {
      "cell_type": "markdown",
      "source": [
        "# Leader-Follower challenge\n",
        "\n",
        "Abstract—This report presents an investigation into usage of\n",
        "bump sensors to implement a leader-follower formation between\n",
        "two robots. Primary challenge was to calibrate the light sensitive\n",
        "IR based bump sensors and using them to generate a control\n",
        "signal for the follower robot. Our investigation discerns that the\n",
        "sensitivity of the bump sensors gradually reduces from center to\n",
        "edge, rendering increased difficulty to perform sharper turns by\n",
        "the follower. Based on experimental data recommendations and\n",
        "counter measures have been discussed"
      ],
      "metadata": {
        "id": "eosIFj8TEcEl"
      }
    },
    {
      "cell_type": "markdown",
      "source": [
        "# Two Optimized Compound Obstacle Avoidance Control Methods Based on Weight Network Control\n",
        "\n",
        "Abstract In previous course experiments it can be seen that Bangbang control and weighted-measurement control have different strengths and weaknesses in the obstacle avoidance process, but it is difficult to perform well individually. In order to make the robot better at obstacle avoidance tasks, this report proposes two enhanced composite control methods. After tests, we found that these two methods resulted in the robot performing better in obstacle avoidance of large obstacles."
      ],
      "metadata": {
        "id": "qUh1Fz4FNvqS"
      }
    },
    {
      "cell_type": "markdown",
      "source": [
        "# Investigating Gap Traversal for Robotics System\n",
        "\n",
        "Abstract— This report presents two solutions for traversing\n",
        "gaps in different environments. The baseline solution is\n",
        "proposed to operate in the environment configuration of a\n",
        "simple straight line, while the improvement solutions\n",
        "implemented a “Z” shape line-searching. A comparison\n",
        "experiment was devised to test the accuracy and efficiency of\n",
        "these two line-searching solutions, measured as the deviation in\n",
        "the X and Y axis and rotation angle. We conclude that the\n",
        "improvement solution with the effectively improved controller\n",
        "is better than the first baseline solution. In the aspect of accuracy\n",
        "rate, it offers better fault tolerance. Furthermore, it takes less\n",
        "time to traverse a gap after adjusting the optimal angle.\n",
        "However, both these solutions still exist some limitations. For\n",
        "instance, the improved solution does not apply to all the\n",
        "environment configurations and its controller needs to be\n",
        "manually adjusted."
      ],
      "metadata": {
        "id": "DdWqYjSyTS2Y"
      }
    },
    {
      "cell_type": "markdown",
      "source": [
        "# Investigate factors affecting the infrared sensor reading\n",
        "Abstract— Factor affecting the line sensor readings are investigated. This report focuses on discovering the effects of surrounding light conditions and robot motion on the readings and determining the sensor sensitivities under different light conditions. The experiments successfully demonstrate higher accuracy under artificial light, especially on lighter grey shades."
      ],
      "metadata": {
        "id": "J_cTAu_KhoGp"
      }
    },
    {
      "cell_type": "markdown",
      "source": [
        "# Not Even Close to 50 Shades of Grey\n",
        "Abstract—The use of robotics in industry can massively increase\n",
        "production efficiency. However, their high capital cost can\n",
        "be a significant barrier to implementation. In this paper, we\n",
        "present a model of the Time to Discharge response to Shades of\n",
        "Grey for inexpensive infrared sensors on a Pololu 3pi+ Robot.\n",
        "Using a simple sensor fusion and calibration approach, six shades\n",
        "of grey are distinguishable and can be autonomously classified by\n",
        "the robot. An investigation into the performance of the model and\n",
        "classification algorithm under three controlled light conditions\n",
        "demonstrated ≥ 99% classification accuracy, by two robots\n",
        "across all shades. The response results indicate the approach\n",
        "is conservative with the potential for more than six shades to be\n",
        "accurately identified."
      ],
      "metadata": {
        "id": "vjWhAXyGkLp3"
      }
    },
    {
      "cell_type": "markdown",
      "source": [
        "# Increasing Line Sensor Performance in a Mobile Robot Setup by Noise Reduction Filtering\n",
        "\n",
        "Abstract—When a line sensor is used on a mobile robot,\n",
        "there is a lot of noise, which results in poor line sensor\n",
        "performance. It was observed that the performance of a line\n",
        "sensor may be enhanced by employing various noise reduction\n",
        "filtering techniques. Three alternative noise reduction methods\n",
        "are compared in this report to discover which one provides the\n",
        "best results.\n"
      ],
      "metadata": {
        "id": "pa35uglhtOGX"
      }
    },
    {
      "cell_type": "markdown",
      "source": [
        "# Inter-Robot Communication using Infrared Transmitter and Receiver\n",
        "\n",
        "Abstract—This report attempts to establish communication\n",
        "between 2 Pololu 3Pi+ 32U4 robots using infra-red LEDs and\n",
        "sensor present on-board. The IR LEDs of one robot acts as\n",
        "the transmitter whereas, the sensor on other robot acts as\n",
        "the receiver. Preliminary studies and tests conducted provided\n",
        "insights into the feasibility and inspired the implementation\n",
        "specifications. A asynchronous communication protocol, similar\n",
        "to serial communication protocol was developed to facilitate\n",
        "transfer of string data. The system was evaluated with an\n",
        "experiment which measured the integrity of the data after\n",
        "transfer at certain range of distance. The communication system\n",
        "managed an error rate of about 5% in the 1cm to 4cm range.\n",
        "\n"
      ],
      "metadata": {
        "id": "aV7WcjHh2LT-"
      }
    },
    {
      "cell_type": "markdown",
      "source": [
        "# Leader-Follower Motion Control\n",
        "Abstract - This design has been coded and verified a robot system that can follow the robot in front of it based on the data of the collision sensor. The robot in front determines its route by using the line sensor to recognize the previously set black belt. This report introduces the background and inspiration of the project design. In the design process, the problem of the impact of the impact sensor on the environment was explored, and the error was reduced by using a variety of algorithms to average. In addition, in order to solve the problem of sliding between the two robots, the shell surface material of the 3pi+ pololu robot was changed to obtain different friction forces, and the maximum motor speed that can complete the task under three different conditions was tested. Try to use EEPROM to store the movement coordinates of the robot below, but due to its small storage space, it can only record a limited amount of data. At the same time, a USB interface is also used to directly read and record enough data. In order to make the experimental results more intuitive, used the kinematics principles to construct the movement trajectories of the leading robot and the follower robot, and obtained the experimental results by comparing the front and back trajectories.\n"
      ],
      "metadata": {
        "id": "XKjOpkXm6uTt"
      }
    },
    {
      "cell_type": "markdown",
      "source": [
        "# An Investigation into Odometry Error caused by Collisions\n",
        "Abstract— This paper covers an investigation into the causes of Odometry Error during a collision on a Pololu 3Pi+. It was found that there’s error caused by collisions and that this error can come from a variety of factors. After eliminating numerous factors it is this papers conclusion that the chief cause of error in Odometry is caused by delays in the bump sensors readings."
      ],
      "metadata": {
        "id": "12ec-GihScUp"
      }
    },
    {
      "cell_type": "markdown",
      "source": [
        "# The Relationship between PID, Power and Work: Measuring Weight using Motor Control\n",
        "\n",
        "Abstract—Weight measurement is an important but costly\n",
        "safety feature required of mobile robots in automated warehouses\n",
        "to prevent failure by excess load. We propose a cost-effective\n",
        "software solution able to predict the weight of load on wheeled\n",
        "mobile robots without additional hardware by modelling the\n",
        "relationship between weight of load and feedback signals of a\n",
        "motor control loop mechanism. We achieve weight prediction\n",
        "accurate to 22.61g for loads up to 2.1kg, and determine the\n",
        "effects of friction and target motor velocity on prediction error."
      ],
      "metadata": {
        "id": "5Ykb1yr1cP2v"
      }
    },
    {
      "cell_type": "markdown",
      "source": [
        "# Path-based Mapping Optimization\n",
        "\n",
        "Abstract—Mapping is a key technique in robotics, allowing a\n",
        "system to be aware of the environment it occupies. Path-based\n",
        "mapping allows for a much cheaper alternative to conventional\n",
        "mapping systems. A limiting factor in many microcontrollerbased\n",
        "systems is memory. Here, we propose a method for majorly\n",
        "reducing the memory footprint of path recording, with minimal\n",
        "cost to accuracy."
      ],
      "metadata": {
        "id": "oBFofwtAkqks"
      }
    },
    {
      "cell_type": "markdown",
      "source": [
        "# Methods to Reduce Error in Odometry for the 3Pi+ Robot\n",
        "\n",
        "Abstract—This paper aims at reducing the error in odometry\n",
        "on a Pololu 3PI+ robot by changing its speed profile and orientation\n",
        "calculation method. After conducting testing consisting of\n",
        "measuring the distance between the robot end position and goal\n",
        "destination with these implementations, it turned out that they\n",
        "greatly reduced the average error and increased the consistency\n",
        "of the position and orientation estimation."
      ],
      "metadata": {
        "id": "hSKVG4GqJs2j"
      }
    },
    {
      "cell_type": "markdown",
      "source": [
        "# “Step Into The Light!”: Re-purposing Bump Sensors to Track External Sources of Infra-Red Radiation\n",
        "\n",
        "Abstract -Tracking is a common behaviour for robots in\n",
        "exploration, disaster response and operational maintenance.\n",
        "This feature depends on the robot’s ability to sense exteroceptive\n",
        "stimuli. The Pololu 3Pi+ 32U4 is equipped with two QTR-\n",
        "3A reflectance sensors that act as bump sensors for its shell.\n",
        "This paper aims to investigate the possibility of re-purposing\n",
        "the bump sensors to detect and locate an external source of\n",
        "IR. We postulate that without the shell, the robot’s sensors\n",
        "can detect ambient IR radiation. An ‘Error signal’ generated\n",
        "from the sensors measurements, would proffer a sense of\n",
        "direction of the IR source. This information, together with\n",
        "PID controls, would drive the robot’s motors in the direction\n",
        "of the IR source. We conducted experiments by varying the\n",
        "distance, height and angle of the IR source relative to the\n",
        "robot and measuring it’s effect on the error signal. The\n",
        "IR tracking (Light following) algorithm tested at various\n",
        "distances from the light source showed promising results\n",
        "beyond expectations, and a linear relationship between the\n",
        "distance and the time taken to locate the light source\n",
        "emerged."
      ],
      "metadata": {
        "id": "XdzjfwcROcj9"
      }
    },
    {
      "cell_type": "markdown",
      "source": [
        "# Improved Orientation Estimate Utilizing Kalman Filter on the Pololu 3Pi+\n",
        "\n",
        "Abstract—The odometry and gyro can both be used to calculate\n",
        "the orientation of the wheeled robot during a localization process,\n",
        "however, both sensors have inevitable systematic and random\n",
        "errors. In this experiment, we aim to improve the performance\n",
        "of long-term localization for a two-wheel robot by implementing\n",
        "a calibration for odometry and a sensor fusion algorithm based\n",
        "on Kalman Filter. We evaluate our method by two sets of\n",
        "closed-route experiments and discuss the results from multiple\n",
        "perspectives.\n",
        "\n"
      ],
      "metadata": {
        "id": "FDwerCzDXlk6"
      }
    },
    {
      "cell_type": "markdown",
      "source": [
        "# Exploring Sensor Value of a RGB Grey Image\n",
        "\n",
        "Abstract— The centre of this article is to optimize the sensor so that it can recognize more specific grayscale colours. This paper finds the one with the smallest error among several possible sensor combinations of 3pi, that is, the average readings of all sensors are used. In addition, the sensor reading and the grey RGB value are fitted, so that the sensor can accurately judge the grey degree from the reading, which can be expressed by the RGB value. And the fitting function can be applied to make 3pi to stop at position of whatever RGB grey value on a Gradient surface."
      ],
      "metadata": {
        "id": "ZrLe3sm5qlH6"
      }
    },
    {
      "cell_type": "markdown",
      "source": [
        "# An Investigation on the Effect of Rate Limiters on PID DC Motor Speed Control when Transitioning Surfaces\n",
        "\n",
        "Abstract—This report uses the 3pi+ 32U4 robot to determine if\n",
        "the use of a rate limiter is useful for improving heading behaviour\n",
        "over a change in surface. This is performed by implementing the\n",
        "rate limiter on the PID speed control of the wheels. The main\n",
        "dependant variable in the experiment is the error in heading from\n",
        "a straight line. The closer the difference in angle is to 0◦, as well as\n",
        "how long it is close to this value means that the robotic system’s\n",
        "behaviour will be more stable (with an accuracy of [±0.01◦]).\n",
        "This study found introducing rate limiting is beneficial for all\n",
        "speeds and slew rates tested. The optimal slew rate lies between\n",
        "1.0-1.5 at all speeds tested for both metrics mean angle error\n",
        "and standard deviation.\n",
        "\n"
      ],
      "metadata": {
        "id": "TFLMdsCkv3Wl"
      }
    },
    {
      "cell_type": "markdown",
      "source": [
        "# PI Controller for Slope Incline Sensing\n",
        "\n",
        "Abstract—This project aims to use only the 3pi+ robot, and the\n",
        "rotary encoder of the wheel, to calculate the angle of inclination of\n",
        "a surface. The detection of inclination is measured by the motor\n",
        "feedback from a programmed PI controller, as the robots ability\n",
        "to meet demand changes based on the environment below the\n",
        "wheels. Hence the difference between inclines should be visible\n",
        "in this feedback recorded on a slope. The results show that the\n",
        "relationship between the slope and the motor feedback is linear,\n",
        "and that there is a strong positive correlation. The regression\n",
        "equation can successfully be embedded into the robot code itself.\n",
        "This allows for the 3pi+ to be able to estimate the slope in real\n",
        "time."
      ],
      "metadata": {
        "id": "W37zRx863NBC"
      }
    },
    {
      "cell_type": "markdown",
      "source": [
        "# Displacement estimation from a lateral collision using an accelerometer\n",
        "\n",
        "Abstract—In this report we explore the feasibility of using an\n",
        "accelerometer as a displacement sensor in the event of a lateral\n",
        "collision. As double integration of accelerometer reading does\n",
        "not provide an accurate displacement estimation, an experiment\n",
        "was conducted to find correlation between different IMU readings\n",
        "and actual displacements. From the experiment data, an equation\n",
        "was derived for improving the displacement estimation. Results\n",
        "showed that the maximum velocity value provides the best\n",
        "correlation with actual displacement. This provides an interesting\n",
        "insight to the characteristics of an accelerometer, demonstrating\n",
        "a method to improve its performance as a displacement sensor."
      ],
      "metadata": {
        "id": "gRv-YfgwDNH0"
      }
    },
    {
      "cell_type": "markdown",
      "source": [
        "# Light Source Localisation using Infra-Red Sensors\n",
        "\n",
        "Abstract—Fighting fires puts human life at risk on a daily basis.\n",
        "This paper investigates the fire detection capability of the Pololu\n",
        "3Pi+ through light source sensing and localisation. An artificial\n",
        "light source was used to represent the source of a fire, the Pololu\n",
        "3Pi+’s localisation capability was assessed by measuring light\n",
        "intensity readings from it’s two forward facing light sensors at\n",
        "several intervals during a 360◦ on the spot rotation. It was shown\n",
        "that polar localisation, with respect to the 3Pi+’s local coordinate\n",
        "system, is possible with an accuracy of ± 5◦ provided suitable\n",
        "filtering is applied to the results. Light intensity as a function of\n",
        "distance from the light source was also investigated and shown\n",
        "to vary, as expected, by the inverse square. These experimental\n",
        "results add to the current research on IR sensing and navigation\n",
        "technologies for mobile autonomous systems able to travel into\n",
        "areas that remain unsafe for people.\n"
      ],
      "metadata": {
        "id": "FE25j7GONev5"
      }
    },
    {
      "cell_type": "markdown",
      "source": [
        "# Use of the LIS3MDL Magnetometer to Orient the Pololu 3Pi+ Robot Towards Ferrous Objects\n",
        "Abstract—Magnetometers on mobile robots are notoriously\n",
        "hard to make good use of due to the high levels of environmental\n",
        "magnetic interference, including from the robot’s own components.\n",
        "The ability for a robot to detect ferrous objects may prove\n",
        "useful in a number of applications such as exploring dangerous\n",
        "or remote places with an additional level of depth. In this report\n",
        "we conduct experiments to investigate environmental magnetic\n",
        "interference, evaluate magnetic heading angle measurement and\n",
        "validate a controller that rotates the robot towards a magnet in\n",
        "its proximity. The integrated system was found to orient itself\n",
        "towards magnets as far as 19 cm away from it, however an\n",
        "opposite polarity could cause it to orient itself in the opposite\n",
        "direction.\n",
        "\n",
        "\n"
      ],
      "metadata": {
        "id": "_4kIeDVmnRoQ"
      }
    },
    {
      "cell_type": "markdown",
      "source": [
        "# Automatically Tuning PID Controller with Genetic Algorithm\n",
        "\n",
        "Abstract—Fixed parameters for PID controller can malfunction\n",
        "in the situation when the physical condition changes rapidly. We\n",
        "present a way for robots with PID controllers to automatically\n",
        "tune PID parameters by integrating Genetic Algorithm. By\n",
        "plotting figures of the system performance, the feasibility and the\n",
        "universality of the algorithm are proved. We also compared how\n",
        "two encoding methods affect the iteration differently. It was found\n",
        "that the binary encoding algorithm has a better performance at\n",
        "convergence speed, while the float encoding algorithm is superior\n",
        "in the ability to find the global optimal solution."
      ],
      "metadata": {
        "id": "WHKNheGxsqAm"
      }
    },
    {
      "cell_type": "markdown",
      "source": [
        "# Assessing a robotic system’s capability to detect light sources with bumper sensors\n",
        "\n",
        "Abstract— Robots are widely used to mitigate the need for humans in hazardous, unknown areas, such as dark caves. However, human environments are dynamic and unpredictable, posing challenges for mobile robots.\n",
        "Robotics systems require the ability to navigate in urban environments with obstacles of different types and sizes (Rainer Kümmerle et al., 2013), however, navigation is one of the most challenging capabilities for a mobile robot. This paper proposes the detection of light source and intensity as a system to automatically locate the precise positions of maximum light and, thereby, lack of obstacle, in an environment. The system demonstrated the ability to detect light from a torch, lightbulb and candle, with an overall accuracy of 83.3%. However, the capability to detect the angle of the light source remains unconfirmed, and therefore, future work will focus on implementing this into the system. Research areas will further include the testing of different light sources and testing the system in uncontrolled environments."
      ],
      "metadata": {
        "id": "3jvuC5If3xhm"
      }
    },
    {
      "cell_type": "markdown",
      "source": [
        "# Identifying and/or Adapting to different environment/Slippery surfaces using  polulu 3Pi+ robot\n",
        "\n",
        "Abstract—Environmental changes in which a robot works can\n",
        "radically influence the presentation of numerous parts of its\n",
        "capacity. In this report, we explore the effect of a change in\n",
        "the surface on the “wheel slippage” of a robot, and then self\n",
        "adapt to the new surface using PID control of the motors. The\n",
        "experiment highlighted that a sudden change in the surface of\n",
        "the robot can cause wheel slip and we monitored this pattern\n",
        "in different surfaces and concluded that the slip on any kind of\n",
        "surface is possible and the robot has the capability of adapting\n",
        "the new wheel traction."
      ],
      "metadata": {
        "id": "8h95SFPXZwWy"
      }
    },
    {
      "cell_type": "markdown",
      "source": [
        "# Application of Gyroscope Accelerometer Calibration by Kalman Filter in angle detection\n",
        "Abstract—This report used the Pololu 32U4 3pi+ to deal with measurement errors and noise interference when encountering different angles. The LSM6DS33 is a 3pi+ Inertial Measurement Unit (IMU) with a gyroscope and accelerometer. By applying this IMU, the user can learn the real-time attitude values of the 3pi+, such as its roll and pitch angles. The values detected by using the IMU directly without processing are inaccurate. In this paper, we assume that using a Kalman filter combined with a gyroscope and accelerometer will give higher accuracy. We combined the accelerometer and gyroscope with the Kalman filter to improve this situation. Using this combination because the accelerometer is sensitive to vibrations and other disturbances, but the state calculated from long-term data is reliable. In contrast, gyroscopes are not sensitive to vibrations but can drift with long-term use. The conclusions show that the application of the Kalman filter confirms that the results obtained with the use of the filter are more accurate than the angular values converted by using only the accelerometer.\n"
      ],
      "metadata": {
        "id": "0otBArooX1N4"
      }
    },
    {
      "cell_type": "markdown",
      "source": [
        "# Barcode Reading Using Reflectance Sensors\n",
        "\n",
        "Abstract—Barcodes are a way of conveying binary information\n",
        "to a system through white and black bars. The Pololu 3Pi+ is\n",
        "equipped with reflectance sensors that can distinguish light from\n",
        "dark surfaces. In this work, we show that the 3Pi+ can detect\n",
        "bars 4 mm or higher in width and can read barcodes whose\n",
        "bars are at least 8 mm in width. We then go on to show that\n",
        "lines below 4 mm, which are nearly undetectable in isolation, can\n",
        "disrupt the barcode reading accuracy when placed in the gaps\n",
        "of a barcode."
      ],
      "metadata": {
        "id": "MLKcs8zaEXeQ"
      }
    },
    {
      "cell_type": "markdown",
      "source": [
        "# Control of box pushing robot on straight line paths\n",
        "Abstract— This report aims to investigate the use of a robot as a drive to push a mass along a straight line using its bump sensors and one of two potential control schemes: a weighted controller and a PI controller. To examine these scenarios, a Pololu 3Pi+ 32U4 robot was used to push a load along a straight line of a fixed distance. Two measures were utilised to study the performance of the system of this task: the deviation of the robot from the straight line and the time taken by the robot to travel the distance. Results have shown small improvements under these measures, though there are concerns about the significance and reliability of the controllers of these findings."
      ],
      "metadata": {
        "id": "2K_c5jOgIhdZ"
      }
    },
    {
      "cell_type": "markdown",
      "source": [
        "# Kinematics and Control Analysis for 3pi+ using ICC Equations\n",
        "Abstract—A Pololu 3pi+ bot is used to study the accumulated\n",
        "error in differential drive motors while following a curved path\n",
        "characterised by Instantaneous Centre of Curvature equations.\n",
        "A corrective method is used to maintain the circular path. Also,\n",
        "the effect of the derivative constant is studied by implementing\n",
        "a PID. All the experiments were corroborated with a simulated\n",
        "path."
      ],
      "metadata": {
        "id": "6r3OM5niXXUo"
      }
    },
    {
      "cell_type": "markdown",
      "source": [
        "# How does Obstacle Avoidance algorithm affect Returning-Home Performance\n",
        "\n",
        "Abstract— Two obstacle avoidance algorithms with different performance are introduced to test returning-home performance after a period of travel. The algorithm which makes robot closer to the obstruction would contribute to better returning-home performance: stopping point is closer to the starting point. To explain this, the going straight action and the turning around action of the robot are compared to examine which leads to the kinematic error."
      ],
      "metadata": {
        "id": "bHQZDHXDZ0uk"
      }
    },
    {
      "cell_type": "markdown",
      "source": [
        "# Control of box pushing robot on straight line paths\n",
        "\n",
        "Abstract— This report aims to investigate the use of a robot \n",
        "as a drive to push a mass along a straight line using its bump \n",
        "sensors and one of two potential control schemes: a weighted \n",
        "controller and a PI controller. To examine these scenarios, a \n",
        "Pololu 3Pi+ 32U4 robot was used to push a load along a straight \n",
        "line of a fixed distance. Two measures were utilised to study the \n",
        "performance of the system of this task: the deviation of the robot \n",
        "from the straight line and the time taken by the robot to travel \n",
        "the distance. Results have shown small improvements under \n",
        "these measures, though there are concerns about the \n",
        "significance and reliability of the controllers of these findings.\n",
        "\n"
      ],
      "metadata": {
        "id": "iHRj1fHCHJif"
      }
    },
    {
      "cell_type": "markdown",
      "source": [
        "# Barcode Reading Using Reflectance Sensors\n",
        "\n",
        "Abstract—Barcodes are a way of conveying binary information\n",
        "to a system through white and black bars. The Pololu 3Pi+ is\n",
        "equipped with reflectance sensors that can distinguish light from\n",
        "dark surfaces. In this work, we show that the 3Pi+ can detect\n",
        "bars 4 mm or higher in width and can read barcodes whose\n",
        "bars are at least 8 mm in width. We then go on to show that\n",
        "lines below 4 mm, which are nearly undetectable in isolation, can\n",
        "disrupt the barcode reading accuracy when placed in the gaps\n",
        "of a barcode."
      ],
      "metadata": {
        "id": "UvW90gRwHtNW"
      }
    },
    {
      "cell_type": "markdown",
      "source": [
        "# Investigation of integral gains on different curves for a PI controller\n",
        "\n",
        "Abstract—This report investigates the tuning of the Integral\n",
        "term of a PI controller using the Pololu 3pi+ robot by varying\n",
        "the gains on the heading controller while keeping the gains of the\n",
        "wheel controller fixed. The performance of the robot is evaluated\n",
        "on a straight line with a 50 degree turn, a spiral shaped path,\n",
        "and a U-shaped path. For a given Ki value (gain), we predict\n",
        "that the PI controller will exhibit different levels of performance\n",
        "in relation to the shape of the curve. We consider theta, being\n",
        "the orientation of the robot to be a metric in evaluating the\n",
        "robot’s stability on these curves. To determine how much the\n",
        "robot deviated from the line, the mean absolute error, undershoot\n",
        "percentage and overshoot percentage were calculated. When\n",
        "these parameters were studied, it was inferred that different Ki\n",
        "gains are suitable for different curves.\n"
      ],
      "metadata": {
        "id": "ezmp0U3JHvyf"
      }
    },
    {
      "cell_type": "markdown",
      "source": [
        "# Reducing Odometry Error by using Bump Sensors\n",
        "\n",
        "Abstract—This report documents an experiment conducted to\n",
        "record the linear and angular deflection caused when the Pololu\n",
        "3Pi+ robot is made to move in a straight line and when the\n",
        "robot comes in contact with an object. The aim of this research\n",
        "is to explore performance improvements by analysing various\n",
        "errors that arise. A baseline solution is produced by making\n",
        "the robot move a distance of 28cm and to come back to the\n",
        "origin. The accurate distance travelled has been controlled by\n",
        "programming the wheel encoders. The experiments have been\n",
        "broken down into three stages : Setting up a baseline with and\n",
        "without obstacle, Application of to make the robot move in a\n",
        "straight line and Application of Kinematics for calibration and\n",
        "to achieve the robot to return back to home position precisely."
      ],
      "metadata": {
        "id": "WzzQ0091H72X"
      }
    },
    {
      "cell_type": "markdown",
      "source": [
        "# Pushing Our Luck: An Investigation into Agent-Based Stigmergy Stability\n",
        "\n",
        "Abstract—Stigmergy as a coordination approach is essential\n",
        "as robotic automation becomes more prevalent. In this study, we\n",
        "analyse the instability emergent when one and two Pololu robots\n",
        "are used to push loads with roughly equivalent masses to each\n",
        "robot. We further explore the effect of using different wheel\n",
        "adjustment speeds using a P controller approach to maintain\n",
        "contact with the object. Experimentation concludes that the\n",
        "single-robot case is generally most stable with less sensitive\n",
        "P controller error for trajectory correction. Comparably, the\n",
        "dual-robot case, using a custom measure of instability, is at\n",
        "least half as unstable per unit mass of robot being pushed.\n",
        "Further development includes continuous analysis to determine\n",
        "if instability is fluctuating or persistent.\n",
        "\n"
      ],
      "metadata": {
        "id": "r9so8_x4IYN3"
      }
    },
    {
      "cell_type": "markdown",
      "source": [
        "# Detecting Slope Incline using Motor Power from a PID Controller\n",
        "\n",
        "Abstract—This paper introduces a novel method of slope\n",
        "detection for the Pololu 3Pi+ robot. We enable the robot to\n",
        "calculate slope incline using the motor power required by the\n",
        "robot to maintain a constant velocity on that slope. In order\n",
        "to achieve this we model the relationship between motor power\n",
        "and incline as a function. We demonstrate that the relationship\n",
        "between incline and motor power changes over different value\n",
        "ranges. It is shown that the robot is able to accurately calculate\n",
        "the angle of incline up to 15° using a linear relationship. Beyond\n",
        "this range the accuracy of this method decreases."
      ],
      "metadata": {
        "id": "1glSJcBfIqs2"
      }
    },
    {
      "cell_type": "markdown",
      "source": [
        "# Environment Controlled Line Following - Conveying Information Through a Striped Line\n",
        "\n",
        "Abstract—A novel line following system was successfully de\u0002veloped using a striped line to communicate direction, speed and\n",
        "acceleration demands to the robot. An investigation was carried\n",
        "out to determine the limits of this architecture; evaluating the\n",
        "effect of speed, line period, line duty, sample rate, and a sensor\n",
        "field of view.\n"
      ],
      "metadata": {
        "id": "gG4u7vI0Ix9P"
      }
    },
    {
      "cell_type": "markdown",
      "source": [
        "# Helping Robots Eat More Carrots: Crash Testing in Different Levels of Ambient Light\n",
        "\n",
        "Abstract—This report uses the 3pi+ 32U4 robot (3pi+) \n",
        "to determine if the efficacy of the infrared (IR) light sensors\n",
        "are enhanced in lower light conditions. This was determined by\n",
        "designing an experiment which used defined metrics to quantify\n",
        "the severity of a crash. A control algorithm was implemented to\n",
        "exploit the increase in sensitivity of IR sensors at lower ambient\n",
        "light levels. It was found that the responsiveness of the system was\n",
        "improved in darker conditions, however this was not enough to\n",
        "have significant effects on the crash severity due to the detection of\n",
        "the crash occurring at the point of contact, at which the momentum\n",
        "meant the consequences of a crash were inevitable. For autonomous\n",
        "vehicles, this research could be beneficial since the IR sensors detect\n",
        "a distance to obstacle rather than distance to bumper flap."
      ],
      "metadata": {
        "id": "H6jvlGz9I11X"
      }
    },
    {
      "cell_type": "markdown",
      "source": [
        "# Correcting the Odometry Error Caused by Collisions using Analogue Bump Sensors\n",
        "\n",
        "Abstract—This work investigates correcting the odometry er\u0002ror caused by collisions on a differential drive robot using re\u0002flectance bump sensors. We model the error caused by collisions,\n",
        "then propose a method which improves the mean odometry error\n",
        "over a subset of possible collision angles (5° to 45°). Finally, we\n",
        "discuss the sensor limitations preventing us from reducing the\n",
        "variance or correcting across a larger range of angles."
      ],
      "metadata": {
        "id": "MLnKL7IkJAJe"
      }
    },
    {
      "cell_type": "markdown",
      "source": [
        "# An Investigation of the Line Following Challenge on Irregular Backgrounds\n",
        "\n",
        "Abstract—The ability for a robot to follow a line is one that\n",
        "has several applications in education and industry. However, the\n",
        "settings in which these robots are used are usually controlled and\n",
        "predictable. In cases where the background is not a single colour,\n",
        "additional methods need to be applied for robots to function\n",
        "normally. Through investigation, the use of continuous calibration\n",
        "was shown to improve the robot’s performance on backgrounds\n",
        "with patterns. For backgrounds containing noise such as simplex\n",
        "noise, the use of an exponential moving average filter was also\n",
        "investigated, but did not yield positive results.\n",
        "\n",
        "\n"
      ],
      "metadata": {
        "id": "A6VT8mYuJHwm"
      }
    },
    {
      "cell_type": "markdown",
      "source": [
        "# Test your Metal - Repurposing of the LIS3MDL Magnetometer for Ferrous Object Detection on a Robot Platform\n",
        "\n",
        "Abstract— This paper investigates the sensitivity of the \n",
        "LIS3MDL magnetometer to ferrous material. In conjunction \n",
        "with the Pololu 3Pi+ 32U4 robot, it is demonstrated a mobile \n",
        "platform can converge on a bearing towards a ferrous object. \n",
        "\n"
      ],
      "metadata": {
        "id": "GS8hfiI0JTI2"
      }
    },
    {
      "cell_type": "markdown",
      "source": [
        "# Slippery Slope Causes Decline in Performance: Mitigating Wheel Slip With PID Limiting\n",
        "\n",
        "Abstract—Wheel slip can occur in low friction environments,\n",
        "causing robotic odometry systems to calculate a greater distance\n",
        "than actually travelled. This paper outlines two experiments\n",
        "aiming to characterise the relationship between the degree of\n",
        "wheel slip and wheel acceleration, and mitigate wheel slip by\n",
        "limiting wheel acceleration. For the low friction scenario tested\n",
        "(robot driving on a smooth laminate surface with no tyres),\n",
        "accelerations of more than 10rev/s2 were found to produce wheel\n",
        "slip. Implementing this limit into the robot control system showed\n",
        "the same result. Consequently, it is concluded that for any friction\n",
        "scenario there exists an acceleration limit, above which wheel slip\n",
        "occurs. This can be avoided by limiting wheel acceleration in the\n",
        "robot control system.\n"
      ],
      "metadata": {
        "id": "h-LR8HNHJm3m"
      }
    },
    {
      "cell_type": "markdown",
      "source": [
        "# Detection of Wheel Slip and the Mitigating Effects of PID Control upon Traction for Optimised Acceleration\n",
        "\n",
        "Abstract—Wheel slip in drive systems causes instabilities and\n",
        "lack of control, especially when under hard acceleration. For a\n",
        "two wheeled drive Pololu 3Pi+ robot, maximum acceleration is\n",
        "desired without lack of traction. Detection of potential wheel slip\n",
        "can be measured by dynamic variables where an acceleration\n",
        "profile is created under static friction conditions, just before\n",
        "wheel slip is reached. Through a variation of robot PWM speeds\n",
        "of 25-150, changes in tyre friction levels from µ = 0.85 and\n",
        "mu = 0.60±10% were experimented on and a reduction of 386%\n",
        "in wheel speed was achieved during slip via PID control. The\n",
        "controlled and uncontrolled systems were compared at a PWM\n",
        "input of 150, where, despite different wheel velocity profiles,\n",
        "no change in overall object speed was seen. Inherent issues lie\n",
        "within the sampling rate of PID control where, through analysis\n",
        "alternate methods of control are proposed."
      ],
      "metadata": {
        "id": "e3vyrWAIJqGO"
      }
    },
    {
      "cell_type": "markdown",
      "source": [
        "# Object Shape Recognition with Bump Sensor\n",
        "\n",
        "Abstract—This report illustrates a study on bump sensors and\n",
        "introduces a method for pattern recognition of obstacles based\n",
        "on bump sensors. The task of mapping is to identify the shape\n",
        "of the obstacle. We propose an object surface tracking method\n",
        "and a coordinate calculation method to identify obstacles, i.e., the\n",
        "collision point between the 3Pi+ robot and the obstacle. Several\n",
        "accuracy improvement methods are discussed in the report and\n",
        "used in the implementation.\n"
      ],
      "metadata": {
        "id": "dVavdnPIKvuA"
      }
    },
    {
      "cell_type": "markdown",
      "source": [
        "# A Study Into Effectiveness of Use of a PID Controller in the Estimation of Slope Angle\n",
        "\n",
        "Abstract—PID control is implemented on the 3Pi+ 32U4 robot\n",
        "to control the forward velocity. It will compare the results to those\n",
        "produced using the on board gyroscope. It aims to prove that\n",
        "the gyroscope could be removed from the robot as a means of\n",
        "slope angle estimation as this functionality could be implemented\n",
        "using PID control of robot velocity. The experiment evaluates the\n",
        "gyroscope by analysing the accuracy of the gyroscope.\n"
      ],
      "metadata": {
        "id": "P-FmZ_p2KyjA"
      }
    },
    {
      "cell_type": "markdown",
      "source": [
        "# An Investigation into the use of a Polou 3pi+ Robot for Object Classification by Mass.\n",
        "\n",
        "Abstract—This report details an investigation into the\n",
        "development and feasibility of a mass-identification system\n",
        "for a dragged-object, using a Poluo 3pi+ robot. It was found\n",
        "that wheel slip limits range of masses that can be successfully\n",
        "identified to 52g - 200g, with error increasing with mass up to\n",
        "a maximum tolerance of 2%. Furthermore, it was found that\n",
        "smoother surfaces resulted in more variable data decreasing\n",
        "the accuracy of mass prediction."
      ],
      "metadata": {
        "id": "qZmhn6_8K-Qc"
      }
    },
    {
      "cell_type": "markdown",
      "source": [
        "# Investigation of the Effect of Kinematic Methods for Positional Tracking of a 3Pi+ Robot\n",
        "\n",
        "Abstract- This report focuses on the usage of dead reckoning \n",
        "within the Pololu 3Pi+ robot to determine accuracy of\n",
        "alternative kinematic equations. This is achieved using a set \n",
        "of traditional equations compared to filtered and \n",
        "Instantaneous Centre of Curvature (ICC), along known tracks\n",
        "with a range of different movement measuring the error of \n",
        "the dead reckoning. The experiment concluded that limited\n",
        "benefit was observed with the ICC kinematics within this scale \n",
        "however, results suggest that the ICC equations could be \n",
        "improved with further testing and implementation making \n",
        "for a potentially improved system overall."
      ],
      "metadata": {
        "id": "sh-Kfm5gMBr7"
      }
    },
    {
      "cell_type": "markdown",
      "source": [
        "# Improving the Traditional Odometry System via Implementation of the Accelerometer\n",
        "\n",
        "Abstract—The traditional odometry system does not account\n",
        "for wheel slip. Augmenting the existing system with the accelerometer improves the positional awareness of the 3pi+ robot.\n",
        "A weighted average combines the acceleration from both systems\n",
        "which calculates the position of the 3pi+. The accelerometer\n",
        "has a low signal-to-noise ratio. The noise was removed with an\n",
        "exponential moving average filter with a smoothing factor of 0.9.\n",
        "In order to detect when wheel slip occurs, the acceleration when\n",
        "the 3pi+ hits a wall was measured. When a crash is detected\n",
        "a filter coefficient between the accelerometer and traditional\n",
        "odometry system are applied (0.0, 0.1, 0.5 or 1.0). This allows\n",
        "different levels of augmentation to be applied. By augmenting the\n",
        "traditional odometry system with data from the accelerometer,\n",
        "external forces can be accounted for, minimising the positional\n",
        "error and improving the performance of the 3pi+.\n"
      ],
      "metadata": {
        "id": "FeZFprPWMdG8"
      }
    },
    {
      "cell_type": "markdown",
      "source": [
        "# An Investigation of Robot Stopping Methods and Trade-offs Between Performance and Control\n",
        "\n",
        "Abstract—It is important for many mobile robots to have\n",
        "an accurate estimation of their location within an environment.\n",
        "Typically, most robots use rotary encoders to keep an up to date\n",
        "location through the use of kinematics. During operation it may\n",
        "be necessary for a robot to come to an emergency stop from\n",
        "high speeds. The quick decelerations associated with emergency\n",
        "braking often result in an increased risk of wheel slip, potentially\n",
        "introducing error between the actual physical location of the\n",
        "robot and it’s estimate. This paper investigates different robot\n",
        "stopping methods to identity corresponding changes in stopping\n",
        "distance and estimated-location accuracy, discovering that an\n",
        "exponential power decrease leads to the robot keeping it’s location\n",
        "estimate most accurate while also keeping it’s stopping distance\n",
        "to a minimum.\n"
      ],
      "metadata": {
        "id": "mWHwrENSMp8O"
      }
    },
    {
      "cell_type": "markdown",
      "source": [
        "# Investigating the effect Path Shape has on a Robots Odometry\n",
        "\n",
        "Abstract—The effect of path shape on a robots position\n",
        "estimate is investigated, with an expectation that rotation is a\n",
        "greater source of error than translation. A kinematic model\n",
        "is implemented on the Polulu 3Pi+. Line following with return\n",
        "home is implemented on different shaped lines, with estimated\n",
        "end of line positions and return positions measured. The mean\n",
        "and standard deviations of these positions is found. The results\n",
        "are generally inconclusive; whilst there is some suggestion that\n",
        "rotation is the source of greater error, there is clear systematic\n",
        "errors affecting the results."
      ],
      "metadata": {
        "id": "L4Na0IqcMuUF"
      }
    },
    {
      "cell_type": "markdown",
      "source": [
        "# Predicting the Gradient of a Slope Using Infrared Line Sensors Before Traversing the Slope\n",
        "\n",
        "Abstract—As robots require less supervision, they need to be\n",
        "able to recognise potential hazards. One such hazard is gradients\n",
        "that are too steep. This report hypothesises there is a correlation\n",
        "between the line sensor readings and the distance from the line\n",
        "sensor. Using this relationship and downward facing line sensors\n",
        "on a robot the gradient is predicted before joining the slope. To\n",
        "remove the volatility from the initial sensor readings a moving\n",
        "average and low pass filter are implemented. The results show\n",
        "using a low pass filter results in the highest accuracy."
      ],
      "metadata": {
        "id": "Unwm8vgiNTvY"
      }
    },
    {
      "cell_type": "markdown",
      "source": [
        "# Locating Ferrous Objects in a 2D Environment using the 3+Pi Robot\n",
        "\n",
        "Abstract—Object detection is a common use case for robots\n",
        "which is achieved by using an array of different sensors.\n",
        "Magnetometers measure the strength of magnetic fields that\n",
        "’cuts’ through the sensor. However, readings are commonly noisy.\n",
        "Yet with the use of various signal processing methods the noise\n",
        "in the signal received from magnetometers can be reduced.\n",
        "This report uses a simple mathematical pre-possessing method\n",
        "to provide a baseline for performance. This is then followed\n",
        "by different order low pass filters to improve accuracy. The\n",
        "different signal improvement methods are tested using structured\n",
        "experiments and performance metrics to evaluate the benefits of\n",
        "the signal processing methods. The filters performed in line with\n",
        "expectations, with the more sophisticated of the two reducing the\n",
        "error noticeably. Through repetition of experiments this paper\n",
        "demonstrated how, with the addition of pre-processing and post\u0002processing filtering methods, a noisy signal can be cleaned to\n",
        "improve the accuracy of detection."
      ],
      "metadata": {
        "id": "LKWuN_CFNow5"
      }
    },
    {
      "cell_type": "markdown",
      "source": [
        "# An Investigation into Tactile-Driven Motion for Leader-Follower Multi-Agent Robotic Systems Using a PID Controller\n",
        "\n",
        "Abstract—Motion control is a critical aspect to autonomous and\n",
        "intelligent transport systems to maximise safety and efficiency. This\n",
        "purpose of this study was to explore this aspect of robotic systems\n",
        "through an inceptive investigation into how the tactile response\n",
        "of bumper depression of a Pololu 3pi+ can be exploited to drive\n",
        "smooth motion control of a unit’s wheel speed to follow another\n",
        "identical unit - a leader-follower formation. We proposed a raw\n",
        "data cleaning method and novel PID controller to process incoming\n",
        "bumper sensor measurement to maintain the follower’s contact\n",
        "with the leader. We evaluated its performance by analysing how\n",
        "disruptive the follower is to the leader’s motion and odometry\n",
        "in addition to how well it sustained contact and compared this\n",
        "against an uncontrolled scenario. We found our system to perform\n",
        "favourably when following for straight line trajectories with the\n",
        "disadvantage of being overly sensitive. Further work into how well\n",
        "the system generalises to different trajectories and ways to mitigate\n",
        "sensitivity are suggested to support our findings.\n"
      ],
      "metadata": {
        "id": "MWpZizcINshb"
      }
    },
    {
      "cell_type": "markdown",
      "source": [
        "# Exploiting Inherent Sensor Noise to Increase the Value of Constrained Communication\n",
        "\n",
        "Abstract—This report explores the parallel between robotic\n",
        "sensor noise and vagueness in the aggregation of low value\n",
        "communication from multiple sender channels. It highlights\n",
        "and investigates a counter-intuitive scenario in which a robot\n",
        "with noisy sensors can be shown to consistently outperform an\n",
        "idealised noiseless robot, at a simple environmental sensing and\n",
        "communication task. It further explores the limitations of such\n",
        "a system, and how it can be potentially improved via multi\u0002dimensional optimisation of variables such as threshold value."
      ],
      "metadata": {
        "id": "79H6zAxJN0Ua"
      }
    },
    {
      "cell_type": "markdown",
      "source": [
        "# Reducing Odometry and Kinematic Error in Obstacle Avoidance Tasks by Using Collision-less Bump Sensor Detection\n",
        "\n",
        "Abstract—This project investigates obstacle avoidance for au\u0002tonomous robots. It presents findings using a Polulu 3Pi+ and\n",
        "shows that collision with obstacles during avoidance creates a\n",
        "compounding error in odometry and kinematics inversely affect\u0002ing the robots understanding of its environment. To this end this\n",
        "works presents a collision-less obstacle avoidance implementation\n",
        "for the Polulu 3Pi+ and shows how this new implementation\n",
        "removes the error introduced by collisions and circumnavigates\n",
        "course obstacles with only a small loss in kinematic and odometry\n",
        "accuracy."
      ],
      "metadata": {
        "id": "pl0YUM1aN8NT"
      }
    },
    {
      "cell_type": "markdown",
      "source": [
        "# Immovable Object vs Unstoppable Force: Using A PI controller to investigate Robotic Box-Pushing\n",
        "\n",
        "Abstract—As the mass of an obstacle increases, the force\n",
        "required to maintain a constant forward motion follows suit.\n",
        "Predictably, the initial relationships between the motor force\n",
        "of a moving object and the mass of an obstructive object are\n",
        "linear. However, when the mass reaches a certain threshold,\n",
        "this relationship breakdowns. In this report, I explore where\n",
        "this threshold lies for the 3pi Pololu robot, the relationship\n",
        "between driving force and obstacle mass, and the capability of\n",
        "the 3pi Pololu robot to predict this mass using a basic linear\n",
        "regression model. This experiment finds that while there is\n",
        "a linear relationship between both force of box pushing and\n",
        "its mass, it increasingly becomes less reliable as the standard\n",
        "deviation increases. Secondly, a basic method to determine box\n",
        "mass using a linear regression model and the force values is\n",
        "explored.\n",
        "\n"
      ],
      "metadata": {
        "id": "QPlHYtv2OBK1"
      }
    }
  ]
}