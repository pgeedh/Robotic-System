{
  "nbformat": 4,
  "nbformat_minor": 0,
  "metadata": {
    "colab": {
      "name": "SL7_Serial_Input.ipynb",
      "provenance": [],
      "authorship_tag": "ABX9TyPEgBBV5G4xH28fHrylv7N2",
      "include_colab_link": true
    },
    "kernelspec": {
      "name": "python3",
      "display_name": "Python 3"
    },
    "language_info": {
      "name": "python"
    }
  },
  "cells": [
    {
      "cell_type": "markdown",
      "metadata": {
        "id": "view-in-github",
        "colab_type": "text"
      },
      "source": [
        "<a href=\"https://colab.research.google.com/github/paulodowd/EMATM0054_53_23-24/blob/main/Labsheets/Supp/SL7_Serial_Input.ipynb\" target=\"_parent\"><img src=\"https://colab.research.google.com/assets/colab-badge.svg\" alt=\"Open In Colab\"/></a>"
      ]
    },
    {
      "cell_type": "markdown",
      "source": [
        "# Supplementary Labsheet 7: Serial Input\n",
        "\n",
        "It is possible to transfer information to the robot via the Serial interface.  This is done most easily through the Serial Monitor within the Arduino IDE.  Using the Serial Monitor, you can enter text strings and send these to the 3Pi+.  In your studies, this might be useful to tell the robot to activate or to start a specific behaviour."
      ],
      "metadata": {
        "id": "37zC0vmSh_Zt"
      }
    },
    {
      "cell_type": "markdown",
      "source": [
        "# Serial Communication: Input\n",
        "\n",
        "You can transmit data from your computer to the 3Pi+, once the Serial connection has been created.  This means your 3Pi+ coude would read data from the Serial. To do so, we use the function `Serial.read()` (<a href=\"https://www.arduino.cc/reference/en/language/functions/communication/serial/read/\">Arduino Reference</a>). This function returns one byte from the Serial monitor, which is enough to represent a single character (e.g., `a` or `b` or `@`,  etc.).\n",
        "\n",
        "The code below provides an example of capturing when the character `s` has been sent to the 3Pi+.  Note that, to transmit the letter `s` to the 3Pi+, you must:\n",
        "- ensure that your Arduino Serial Monitor has `newline` set in the bottom most drop-down box.\n",
        "- after typing text into the Serial Monitor text box you would need to press the `send` button, or press the `enter / carriage return key`.\n",
        "- to transmit again, you need to replace the text `Text to send` at least with the letter `s` once it has been sent.\n",
        "\n",
        "<p align=\"center\">\n",
        "<img src=\"https://github.com/paulodowd/EMATM0054_53_23-24/blob/main/Images/SerialMonitor.png?raw=true\">\n",
        "</p>\n",
        "\n"
      ],
      "metadata": {
        "id": "bCie5w9yiSNj"
      }
    },
    {
      "cell_type": "markdown",
      "source": [
        "```c\n",
        "\n",
        "// the setup function runs once when you press reset or power the board\n",
        "void setup() {\n",
        "    \n",
        "  // initialize digital pin LED_BUILTIN as an output.\n",
        "  pinMode(LED_BUILTIN, OUTPUT);\n",
        "  \n",
        "  //Start a serial connection\n",
        "  Serial.begin( 9600 );\n",
        "    \n",
        "  // Wait for stable connection, report reset.\n",
        "  delay(1000);\n",
        "  Serial.println(\"***RESET***\");\n",
        "    \n",
        "}\n",
        "\n",
        "// the loop function runs over and over again forever\n",
        "void loop() {\n",
        "    \n",
        "  //This line checks whether there is anything to read\n",
        "  if ( Serial.available() ) {\n",
        "      \n",
        "      //This reads one byte\n",
        "      char inChar = Serial.read();\n",
        "      \n",
        "      if (inChar =='s') {\n",
        "          Serial.println(\"Got s\");\n",
        "      }\n",
        "      \n",
        "  }\n",
        "    \n",
        "}\n",
        "```"
      ],
      "metadata": {
        "id": "ubI-XvDgij1y"
      }
    },
    {
      "cell_type": "markdown",
      "source": [
        "This will cause the  3Pi+ to respond whenever we type the character 's' on the Serial monitor.\n",
        "\n",
        "## Exercise 1: Serial Input\n",
        "\n",
        "1. Modify the example code above to create a single beep sound whenever it receives the letter `b`.\n",
        "\n",
        "2. Modify your above solution to instead turn persistent beeping either on or off (e.g, like an alarm).\n",
        "\n"
      ],
      "metadata": {
        "id": "N0QWf_jGinAx"
      }
    }
  ]
}