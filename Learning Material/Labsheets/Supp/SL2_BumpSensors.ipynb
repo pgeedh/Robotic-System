{
  "nbformat": 4,
  "nbformat_minor": 0,
  "metadata": {
    "colab": {
      "name": "SL2_BumpSensors",
      "provenance": [],
      "toc_visible": true,
      "authorship_tag": "ABX9TyNhpm9oDR9KNTPQrGTFhfPe",
      "include_colab_link": true
    },
    "kernelspec": {
      "name": "python3",
      "display_name": "Python 3"
    },
    "language_info": {
      "name": "python"
    }
  },
  "cells": [
    {
      "cell_type": "markdown",
      "metadata": {
        "id": "view-in-github",
        "colab_type": "text"
      },
      "source": [
        "<a href=\"https://colab.research.google.com/github/paulodowd/EMATM0054_53_23-24/blob/main/Labsheets/Supp/SL2_BumpSensors.ipynb\" target=\"_parent\"><img src=\"https://colab.research.google.com/assets/colab-badge.svg\" alt=\"Open In Colab\"/></a>"
      ]
    },
    {
      "cell_type": "markdown",
      "metadata": {
        "id": "Pgwc9GPCLihn"
      },
      "source": [
        "# Supplementary Labsheet 2: 3Pi+ Bump Sensors\n",
        "\n",
        "<p align=\"center\">\n",
        "<img width=\"50%\" src=\"https://github.com/paulodowd/EMATM0054_53_23-24/blob/main/Images/3PI_BumpSensors.png?raw=true\">\n",
        "</p>\n",
        "\n",
        "This suppplementary labshoot investigates the bump sensors mounted on the front of the 3Pi+ mobile robot.  The bump sensors operate in the same manner as the line sensors, with a few minor operational differences.  \n",
        "\n",
        "The bump sensors can be used to:\n",
        "- detect collisions\n",
        "- detect ambient light levels\n",
        "\n",
        "This labsheet should be relatively straight-forward because you will have completed the Line Sensor labsheet.  Because this is a supplementary labsheet, you are expected to use your own initiative and critical thinking to solve problems and conduct investigations.\n",
        "\n",
        "\n",
        "\n",
        "\n",
        "\n",
        "\n"
      ]
    },
    {
      "cell_type": "markdown",
      "metadata": {
        "id": "6EblFTqyclh3"
      },
      "source": [
        "<hr><br><br><br><br>"
      ]
    },
    {
      "cell_type": "markdown",
      "metadata": {
        "id": "krVl33vMUFAt"
      },
      "source": [
        "# Bump Sensor Characteristics\n",
        "\n",
        "The bump sensors operate in the same manner as the line sensors, with a few minor operational differences.  However, instead of measuring `infra-red` (IR) light reflected from the ground surface, reflected IR light is measured off the two flexible plastic segments (bumpers) at the front of the 3Pi+ robot. As these plastic segments are depressed against the 3Pi+ body, the quantity of reflected light reduces.\n",
        "\n",
        "<p align=\"center\">\n",
        "<img width=\"75%\" src=\"https://github.com/paulodowd/EMATM0054_53_23-24/blob/main/Images/3PI_BumpPlot.png?raw=true\">\n",
        "</p>\n",
        "\n",
        "The above plot shows example readings from the two bump sensors on a 3Pi+.  The characteristics of your bump sensors will vary.  It is important to note that in the above plot, we can clearly see that the two sensors perform very differently.  On the plot, a green dotted line marks where both sensors have been depressed fully (against the 3Pi+ body).  Despite both bump sensors having roughly the same range of motion, and the same electronic parts, we can see that the timing characteristics are very different.  \n",
        "\n",
        "<p align=\"center\">\n",
        "<img width=\"50%\" src=\"https://github.com/paulodowd/EMATM0054_53_23-24/blob/main/Images/3PI_BumpAmbientInterference.png?raw=true\">\n",
        "</p>\n",
        "\n",
        "In the above plot, the 3Pi+ was rotated 360&deg; without any contact on the bump sensors.  Therefore, the operation of the bump sensors **without contact** varies with ambient light `interference`.  The variation in the timing characterstic for both bump sensors repeats with a period.  This is because the data was collected in an `environment` with windows to one side of the room.  As the robot rotates, it moves the sensors into a well lit condition, and then into a darker region.  \n",
        "\n",
        "<p align=\"center\">\n",
        "<img width=\"50%\" src=\"https://github.com/paulodowd/EMATM0054_53_23-24/blob/main/Images/3PI_AmbientMeasurement.png?raw=true\">\n",
        "</p>\n",
        "\n",
        "In the above plot, the same rotation procedure was repeated but this time without the IR LEDs activated.  \n",
        "\n",
        "**Note:** this means that the EMIT pin must be set to an INPUT to turn off both the IR LEDs for the ground sensors, and turn off the IR LEDs for the bumpers (<a href=\"https://www.pololu.com/docs/0J83/5.5\">documentation</a>).  \n",
        "\n",
        "Without any IR LEDs activated, we can observe very long read time of up to 14,000us (and this will vary with each 3Pi+ robot and the environment light conditions).  The bump sensors were responding only to ambient light conditions, with no IR being actively shone and reflected from the bumpers.  Note that, the bump sensors were not depressed again - the sensors were simply responding to variation in ambient light.\n",
        "\n",
        "We can consider the performance of the bump sensors in two context, and discuss advantages and disadvantages:\n",
        "\n",
        "- **To Detect Collisions**:\n",
        "  - An advantage to using IR Light to detect the depression of the bump sensors allows for the measurment of a continuous signal.  This could mean that it is possible to operate the robot in a manner where a collision is avoided before any wheel slip occurs.\n",
        "  - A disadvantage of using IR Light to detect the depression of the bump sensors is that their performance characteristic varies with ambient light. Therefore, it will likely be necessary to write a calibration routine to make robust autonomous decisions from the bump sensors.\n",
        "\n",
        "- **To Detect Ambient Light Measurements**:\n",
        " - A disadvantage of using the bump sensors to detect ambient light levels is that dark regions may take up to 14ms to conduct a reading, which is a relatively long time for our probable `tasks`.\n",
        " - An interesting advantage of detecting ambient levels whilst the IR Light emitters are activated is that the overall read time remains relatively quick (when the bumpers are not depressed), but variation in the ambient light condition is still evidenced.\n"
      ]
    },
    {
      "cell_type": "markdown",
      "metadata": {
        "id": "RGHdKAoCcoFv"
      },
      "source": [
        "<hr><br><br><br><br>"
      ]
    },
    {
      "cell_type": "markdown",
      "metadata": {
        "id": "BraxBLMCQKIY"
      },
      "source": [
        "## Exercise 1: Adapt Line Sensors Code\n",
        "\n",
        "1. Depending on your implementation, an adaptation of your line sensors read code should be relatively quick and straight forward:\n",
        "  - If you followed the recommendation of using a `class`, create a copy of your line sensor class and rename it to something indicating bump sensors:\n",
        "    - **Help**: Remember to change the actual name of the class and the constructor function.\n",
        "    - **Help**: Remember to change the pin numbers and the number of sensors being read.\n",
        "  - **Help**: to operate the bump sensors, the EMIT pin must be set LOW to activate the IR LEDs for the bump sensors.  This is referred to as `ACTIVE LOW` (active, when set low).  \n",
        "  - **Help**: Remember to refer to <a href=\"https://www.pololu.com/docs/0J83/5.5\">the documentation</a> when you need pin assignments.\n"
      ]
    },
    {
      "cell_type": "markdown",
      "metadata": {
        "id": "L_mxvz0TcybP"
      },
      "source": [
        "<hr><br><br><br><br>"
      ]
    },
    {
      "cell_type": "markdown",
      "metadata": {
        "id": "wZ-X88Qqcs3H"
      },
      "source": [
        "## Exercise 2: Calibration and Binary Bump Detection\n",
        "\n",
        "1. Write a simple calibration routine to run during `setup()` that will collect the minimum and maximum ambient light readings whilst your bump sensor IR LED is active.\n",
        "  - Use this information to set a sensible threshold, above which, your bump sensor class will report a collision to the left or right bump sensors as a true/false return value.\n",
        "  - **Help**: Remember to collect data from your sensors to fully understand the nature of the task.  Collect data for when your sensors are and are not depressed.  It will likely help to plot a graph to visualise how clearly separable the states of the bump sensor are.\n",
        "  - **Help**: A good strategy would be to have your 3Pi+ rotate for a short period of time whilst collecting samples.  Be cautious of overflow errors with your variables.\n",
        "  - **Help**: It is likely that you will need to calibrate your left and right bump sensor independently.\n",
        "\n",
        "\n"
      ]
    },
    {
      "cell_type": "markdown",
      "metadata": {
        "id": "YIpkHL93hZuq"
      },
      "source": [
        "<hr><br><br><br><br>"
      ]
    },
    {
      "cell_type": "markdown",
      "metadata": {
        "id": "tArTYD40hbt5"
      },
      "source": [
        "## Exercise 3: Directional Bump Detection\n",
        "\n",
        "1. Utilise the calibration for left and right bumper to return a normalised value from each sensor in the range [ 0.0 : 1.0 ].  \n",
        "\n",
        "2. Combine the normalised reading from left and right to return which bumper is more heavily depressed.  \n",
        "  - We would expect that with left and right combined, an object directly in front of the 3Pi+ will return a value of 0.\n",
        "  - Objects to the left and right will return a value in range [ -1.0 : +1.0 ].\n",
        "\n",
        "3. Adapt your line following code so that your robot will attempt to keep a pushable object in the center of the two bumpers.\n",
        "  - **Help**: To begin with, find an object that offers some resistance to your 3Pi+ but which it is able to push.  A cup or drinks can may work well."
      ]
    },
    {
      "cell_type": "markdown",
      "metadata": {
        "id": "-K-XUwLtiUwC"
      },
      "source": [
        "<hr><br><br><br><br>"
      ]
    }
  ]
}